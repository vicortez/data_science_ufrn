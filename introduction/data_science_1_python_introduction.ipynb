{
 "cells": [
  {
   "cell_type": "markdown",
   "metadata": {},
   "source": [
    "\n",
    "# Ciência de Dados\n",
    "Prof. Luiz Affonso Guedes\n",
    "Engenharia de Computação - UFRN\n",
    "2018-2"
   ]
  },
  {
   "cell_type": "markdown",
   "metadata": {},
   "source": [
    "# Introdução à Linguagem Python\n",
    "\n",
    "Objetivo: apresentação das funcionalidades básicas da linguagem Python\n",
    "\n",
    "\n",
    "Conteúdo:\n",
    "- Caracterização da Linguagem Python\n",
    "- Vantagens\n",
    "- Saída de dados\n",
    "- cálculos básicos\n",
    "- tipo lista\n",
    "- importação de pacotes"
   ]
  },
  {
   "cell_type": "markdown",
   "metadata": {},
   "source": [
    "- Python é uma linguagem de propósito geral - às vezes referida como utilitária - que é projetada para ser simples de ler e escrever. O seu objetivo é ser uma linguagem simples, porém completa.\n",
    "- Linguagem interpretada não tipada.\n",
    "- Liguagem estruturada, mas possui suporte a orientação a objetos.\n"
   ]
  },
  {
   "cell_type": "markdown",
   "metadata": {},
   "source": [
    "Uma introdução aos conceitos básicos de Python. Saiba como usar o Python de forma interativa e através de um script. Crie suas primeiras variáveis e familiarize-se com os tipos básicos de dados do Python."
   ]
  },
  {
   "cell_type": "code",
   "execution_count": 1,
   "metadata": {},
   "outputs": [
    {
     "name": "stdout",
     "output_type": "stream",
     "text": [
      "Alô, mundo!\n",
      "0.625\n",
      "15\n",
      "17\n"
     ]
    },
    {
     "data": {
      "text/plain": [
       "3"
      ]
     },
     "execution_count": 1,
     "metadata": {},
     "output_type": "execute_result"
    }
   ],
   "source": [
    "# Comentário em Python\n",
    "# Imprimir mensagem em Python\n",
    "print(\"Alô, mundo!\")\n",
    "print(5 / 8)\n",
    "print(3 * 5)\n",
    "print(7 + 10)\n",
    "5 -2"
   ]
  },
  {
   "cell_type": "code",
   "execution_count": 2,
   "metadata": {},
   "outputs": [
    {
     "data": {
      "text/plain": [
       "2"
      ]
     },
     "execution_count": 2,
     "metadata": {},
     "output_type": "execute_result"
    }
   ],
   "source": [
    "a = 2\n",
    "a"
   ]
  },
  {
   "cell_type": "markdown",
   "metadata": {},
   "source": [
    "Operadores Lógicos:\n",
    "    - AND --> &  and\n",
    "    - OR --> | or\n",
    "    - not"
   ]
  },
  {
   "cell_type": "code",
   "execution_count": 3,
   "metadata": {},
   "outputs": [
    {
     "name": "stdout",
     "output_type": "stream",
     "text": [
      "False\n",
      "False\n",
      "True\n",
      "True\n",
      "False\n"
     ]
    }
   ],
   "source": [
    "# Exemplo de uso de operadores lógicos\n",
    "\n",
    "a = True\n",
    "b = False\n",
    "print(a and b)\n",
    "print (a & b)\n",
    "print (a or b)\n",
    "print (a | b)\n",
    "print(not a)"
   ]
  },
  {
   "cell_type": "code",
   "execution_count": 4,
   "metadata": {},
   "outputs": [
    {
     "name": "stdout",
     "output_type": "stream",
     "text": [
      "a = 10 b = 20\n",
      "alô, mundo Estou estudando Python tenho 24 anos\n"
     ]
    }
   ],
   "source": [
    "# Exemplo de uso do print\n",
    "print (\"a = %d b = %d\" % (10 ,20))\n",
    "print(\"alô, mundo\", \"Estou estudando Python\", \"tenho\", 24, \"anos\")"
   ]
  },
  {
   "cell_type": "markdown",
   "metadata": {},
   "source": [
    "O Python é perfeitamente adequado para fazer cálculos básicos. Além da adição, subtração, multiplicação e divisão, também há suporte para operações mais avançadas, tais como:\n",
    "- Exponenciação: **. \n",
    "   - Este operador eleva o número à esquerda para o poder do número à sua direita. Por exemplo, 4 ** 2 dará 16.\n",
    "- Modulo:%. Este operador retorna o restante da divisão do número à esquerda pelo número à direita. Por exemplo, 18% 7 é igual a 4.\n",
    "- Divisão inteira: //\n",
    "   - 3/2, dará 1."
   ]
  },
  {
   "cell_type": "code",
   "execution_count": 5,
   "metadata": {},
   "outputs": [
    {
     "name": "stdout",
     "output_type": "stream",
     "text": [
      "16\n",
      "4\n",
      "1\n"
     ]
    }
   ],
   "source": [
    "# Exemplo de uso da Exponenciação\n",
    "print(4 ** 2)\n",
    "\n",
    "# Exemplo de Módulo\n",
    "print(18 % 7)\n",
    "\n",
    "# Exemplo de Divisão Inteira\n",
    "print(3 // 2)\n"
   ]
  },
  {
   "cell_type": "code",
   "execution_count": 6,
   "metadata": {},
   "outputs": [
    {
     "name": "stdout",
     "output_type": "stream",
     "text": [
      "Se você tomou um empréstimo de R$1.000,00 com taxa de juros de 20% ao ano, após 04 anos qual é o valor de sua dívida?\n",
      "Minha dívida é de  2073.6 reais, depois de  4 anos.\n"
     ]
    }
   ],
   "source": [
    "# Exercício 01\n",
    "print(\"Se você tomou um empréstimo de R$1.000,00 com taxa de juros de 20% ao ano, após 04 anos qual é o valor de sua dívida?\")\n",
    "emprestimo = 1000.0\n",
    "taxa = 0.2\n",
    "anos = 4\n",
    "divida = emprestimo *(1+taxa)**anos\n",
    "print(\"Minha dívida é de \", divida, \"reais, depois de \", anos,\"anos.\" )\n"
   ]
  },
  {
   "cell_type": "markdown",
   "metadata": {},
   "source": [
    "Variáveis e Tipos em Python\n",
    "- Em Python, uma variável permite que você se refira a um valor com um nome. Para criar uma variável use =, como este exemplo:\n",
    "\n",
    "x = 5\n",
    "\n",
    "Agora você pode usar o nome dessa variável, x, em vez do valor real, 5.\n",
    "\n",
    "Lembre-se, = em Python significa atribuição, não igualdade!"
   ]
  },
  {
   "cell_type": "code",
   "execution_count": 10,
   "metadata": {},
   "outputs": [
    {
     "data": {
      "text/plain": [
       "3"
      ]
     },
     "execution_count": 10,
     "metadata": {},
     "output_type": "execute_result"
    }
   ],
   "source": [
    "x=5\n",
    "x\n",
    "y = 3\n",
    "y\n"
   ]
  },
  {
   "cell_type": "code",
   "execution_count": 11,
   "metadata": {},
   "outputs": [
    {
     "name": "stdout",
     "output_type": "stream",
     "text": [
      "5\n"
     ]
    }
   ],
   "source": [
    "print(x)"
   ]
  },
  {
   "cell_type": "code",
   "execution_count": 12,
   "metadata": {},
   "outputs": [],
   "source": [
    " x == 6\n",
    "X = 3"
   ]
  },
  {
   "cell_type": "code",
   "execution_count": null,
   "metadata": {
    "collapsed": true
   },
   "outputs": [],
   "source": [
    "#Exercício 02\n",
    "print(\"Qual é o valor da variável x?\")\n",
    "print(\"A variável x é igual a \", x)\n",
    "print(\"Qual é o valor da variável X?\")\n",
    "print(\"A variável X é igual a \", X)"
   ]
  },
  {
   "cell_type": "code",
   "execution_count": null,
   "metadata": {
    "collapsed": true
   },
   "outputs": [],
   "source": [
    "# Exercício 03\n",
    "print(\"Reescreva o Exercício 01 utilizando variáveis\")\n",
    "valor = \n",
    "taxa_juros = \n",
    "anos = \n",
    "dívida = \n",
    "print(divida)"
   ]
  },
  {
   "cell_type": "code",
   "execution_count": null,
   "metadata": {
    "collapsed": true
   },
   "outputs": [],
   "source": [
    "# Exercício 04\n",
    "print(\"Calcule o Índice de Massa Copórea (IMC)\")\n",
    "ruido1 = 5\n",
    "ruido2 = .05\n",
    "peso = 51 + ruido1\n",
    "altura = 1.58 - ruido2\n",
    "\n",
    "IMC = peso /altura**2\n",
    "\n",
    "print(IMC)"
   ]
  },
  {
   "cell_type": "markdown",
   "metadata": {},
   "source": [
    "Os tipos das variáveis são definidos dinamicamente em Python.\n",
    "- Tipos Básicos em Python\n",
    "    - int --> Inteiro\n",
    "    - flot --> ponto flutuante\n",
    "    - str --> String\n",
    "    - bool --> Booleano (True, False)"
   ]
  },
  {
   "cell_type": "code",
   "execution_count": null,
   "metadata": {
    "collapsed": true
   },
   "outputs": [],
   "source": [
    "# Exercício 05\n",
    "Nome_aluno = \"John Milk\"\n",
    "nota = 3.8\n",
    "bom_aluno = True\n",
    "idade = 22\n",
    "print(\"Escreva no console os valores dessas variáveis\")"
   ]
  },
  {
   "cell_type": "code",
   "execution_count": null,
   "metadata": {
    "collapsed": true
   },
   "outputs": [],
   "source": [
    "# Exercício 06\n",
    "print(\"O que ocorre se se somar um int com um float?\")\n",
    "a = 2\n",
    "b = 1.1\n",
    "c = a+b\n",
    "print(c)"
   ]
  },
  {
   "cell_type": "code",
   "execution_count": null,
   "metadata": {
    "collapsed": true
   },
   "outputs": [],
   "source": [
    "# Exercício 07\n",
    "print(\"O que ocorre se se somar duas strings?\")\n",
    "Nome = \"Maria\"\n",
    "Sobrenome = \"Clara\"\n",
    "Nome_Completo = Nome + \" \" + Sobrenome\n",
    "Nome_Completo"
   ]
  },
  {
   "cell_type": "code",
   "execution_count": null,
   "metadata": {
    "collapsed": true
   },
   "outputs": [],
   "source": [
    "# Exercício 08\n",
    "print(\"É possível somar um int com um str?\")\n",
    "Nome = \"Maria\"\n",
    "Idade = 18\n",
    "Nome + Idade"
   ]
  },
  {
   "cell_type": "code",
   "execution_count": null,
   "metadata": {
    "collapsed": true
   },
   "outputs": [],
   "source": [
    "# Exercício 09\n",
    "# Use a função type(variavel) para obter o tipo da variável.\n",
    "x1 = 1\n",
    "x2 = \"aeiou\"\n",
    "x3 = False\n",
    "print(type(x1))\n",
    "print(type(x2))\n",
    "type(x3)"
   ]
  },
  {
   "cell_type": "markdown",
   "metadata": {},
   "source": [
    "Para se converter tipos em outros, em Python se utiliza as seguintes funções:\n",
    "- str(variavel) <-- converte variavel para string\n",
    "- int(variavel) <-- converte variavel para inteiro\n",
    "- float(variavel) <-- converte variavel para ponto flutuante\n",
    "- bool((variavel) <-- converte variavel para booleano"
   ]
  },
  {
   "cell_type": "code",
   "execution_count": null,
   "metadata": {
    "collapsed": true
   },
   "outputs": [],
   "source": [
    "# Exercício 10\n",
    "# Escreva um programa que converta uma variável \"idade\" que é inteiro  em string.\n",
    "Idade = 22\n",
    "Nome = \"João \"\n",
    "# A saída de ser --> João tem 22 anos.\n",
    "print(Nome + str(Idade))"
   ]
  },
  {
   "cell_type": "code",
   "execution_count": null,
   "metadata": {
    "collapsed": true
   },
   "outputs": [],
   "source": [
    "# Curiosidade\n",
    "\"Eu sou \" + (\"ga\")*3 + \"go\"\n"
   ]
  },
  {
   "cell_type": "code",
   "execution_count": null,
   "metadata": {
    "collapsed": true
   },
   "outputs": [],
   "source": [
    "# Curiosidade\n",
    "# Teste essas opções\n",
    "#False + True\n",
    "#False * True\n",
    "False - True"
   ]
  },
  {
   "cell_type": "markdown",
   "metadata": {},
   "source": [
    "Tipo list\n",
    "- tipo complexo, que representa uma lista de outras variáveis, não necessariamente de mesmo tipos.\n",
    "- As variáveis podem ser listas. No caso, teremos listas de listas\n",
    "\n",
    "Exemplo:\n",
    "\n",
    "lista1 = [1,2,3]\n",
    "\n",
    "lista2 = [\"Maria\", \"1.66\", 22, True]  #[Nome, Altura, Idade, Boa_estudante]"
   ]
  },
  {
   "cell_type": "code",
   "execution_count": null,
   "metadata": {
    "collapsed": true
   },
   "outputs": [],
   "source": [
    "# Lista com variáveis de mesmo tipo\n",
    "# Áreas dos cômodos (em metros quadrados)\n",
    "hall = 11.25\n",
    "kit = 18.0\n",
    "liv = 20.0\n",
    "bed = 10.75\n",
    "bath = 9.50\n",
    "\n",
    "# Criação da lista areas\n",
    "areas = [hall, kit, liv, bed, bath]\n",
    "\n",
    "# Print areas\n",
    "print(type(areas))\n",
    "print(areas)"
   ]
  },
  {
   "cell_type": "code",
   "execution_count": null,
   "metadata": {
    "collapsed": true
   },
   "outputs": [],
   "source": [
    "# Lista com variáveis de diferentes tipos\n",
    "# Áreas dos cômodos (em metros quadrados)\n",
    "hall = 11.25\n",
    "kit = 18.0\n",
    "liv = 20.0\n",
    "bed = 10.75\n",
    "bath = 9.50\n",
    "\n",
    "# Criação da lista areas\n",
    "areas = [\"hallway\", hall, \"kitchen\", kit, \"living room\", liv, \"bedroom\", bed, \"bathroom\", bath]\n",
    "\n",
    "# Print areas\n",
    "print(areas)\n"
   ]
  },
  {
   "cell_type": "code",
   "execution_count": null,
   "metadata": {
    "collapsed": true
   },
   "outputs": [],
   "source": [
    "# Lista de Lista\n",
    "# variáveis de área variables (em metro quadrado)\n",
    "hall = 11.25\n",
    "kit = 18.0\n",
    "liv = 20.0\n",
    "bed = 10.75\n",
    "bath = 9.50\n",
    "\n",
    "# informação sobre metragem da casa como lista de lista\n",
    "house = [[\"hallway\", hall],\n",
    "         [\"kitchen\", kit],\n",
    "         [\"living room\", liv],\n",
    "         [\"bedroom\", bed],\n",
    "         [\"bathroom\", bath]\n",
    "         ]\n",
    "\n",
    "# Print a variaável house\n",
    "\n",
    "print(house)\n",
    "\n",
    "# Print o tipo da variável house\n",
    "\n",
    "print(type(house))"
   ]
  },
  {
   "cell_type": "code",
   "execution_count": null,
   "metadata": {
    "collapsed": true
   },
   "outputs": [],
   "source": [
    "# Exercício 11\n",
    "# Crie 01 lista Familia, que é composta por 04 listas: Pai, Mae, Filho, Filha.\n",
    "# Essas listas têm as variáveis Nome (str), Idade (int), Peso (float), Altura (float)\n",
    "#sexo (bool) True-feminino, False-Masculino\n",
    "Pai = [\"Joao\",56,83.2,1.72,False]\n",
    "Mae = [\"Maria\",48,65.1,1.63,True]\n",
    "Filho = [\"William\",26,81.1,1.5,False]\n",
    "Filha = [\"Tamara\",19,56.8,1.3,True]\n",
    "Familia = [Pai,Mae,Filho,Filha]\n",
    "print(Familia)"
   ]
  },
  {
   "cell_type": "markdown",
   "metadata": {},
   "source": [
    "Acessado elementos de uma lista\n",
    "- list[n]  --> retorna a variável da posição n. O primeiro índice é o ZERO\n",
    "- list[n1:n2] --> retorna uma sub-lista da posição n1 até a posição n2-1\n",
    "- list[:n] --> retorna uma sub-lista da posição ZERO até n-1\n",
    "- list[n:] --> retorna uma sub-lista da posição n até o final da lista"
   ]
  },
  {
   "cell_type": "code",
   "execution_count": null,
   "metadata": {
    "collapsed": true
   },
   "outputs": [],
   "source": [
    "# Exemplos\n",
    "lista = [1,2,3,4,5,6]\n",
    "#lista[0]\n",
    "#lista[2]\n",
    "#lista[7]\n",
    "#lista[-1]\n",
    "#lista[-2]\n",
    "#lista[1:3]\n",
    "lista[:3]\n",
    "lista[:]"
   ]
  },
  {
   "cell_type": "code",
   "execution_count": null,
   "metadata": {
    "collapsed": true
   },
   "outputs": [],
   "source": [
    "#Exercício 12\n",
    "\n",
    "# Create the areas list\n",
    "areas = [\"hallway\", 11.25, \"kitchen\", 18.0, \"living room\", 20.0, \"bedroom\", 10.75, \"bathroom\", 9.50]\n",
    "\n",
    "# Print o segundo elemento da lista\n",
    "print(areas[1])\n",
    "\n",
    "# Print o valor do último elemnto da lista\n",
    "print(areas[6])\n",
    "\n",
    "# Print o valor da área do living room\n",
    "print(areas[5])\n",
    "\n",
    "# Print o valor da área total da casa \n",
    "print(areas[1]+areas[3]+areas[5])"
   ]
  },
  {
   "cell_type": "code",
   "execution_count": null,
   "metadata": {
    "collapsed": true
   },
   "outputs": [],
   "source": [
    "# Dica\n",
    "x = [[\"a\", \"b\", \"c\"],\n",
    "     [\"d\", \"e\", \"f\"],\n",
    "     [\"g\", \"h\", \"i\"]]\n",
    "print(x[2][0])\n",
    "print(x[2][:2])"
   ]
  },
  {
   "cell_type": "code",
   "execution_count": null,
   "metadata": {
    "collapsed": true
   },
   "outputs": [],
   "source": [
    "#Exercício 13 - Homework1\n",
    "# Dado o Exercício 11.\n",
    "# Crie uma lista denominada de Nomes que contenha os nomes do Pai, Mae, Filho e Filha da lista Familia\n",
    "\n",
    "nomes = \n",
    "nomes"
   ]
  },
  {
   "cell_type": "code",
   "execution_count": null,
   "metadata": {
    "collapsed": true
   },
   "outputs": [],
   "source": [
    "#Exercício 14 - Homework2\n",
    "# Dado o Exercício 11.\n",
    "# Crie uma lista denominada de Filhos que contenha apenas as informações de Filho e Filha da lista Familia\n"
   ]
  },
  {
   "cell_type": "code",
   "execution_count": null,
   "metadata": {
    "collapsed": true
   },
   "outputs": [],
   "source": [
    "#Exercício 15 - Homework3\n",
    "# Dado o Exercício 11.\n",
    "# Calcule o peso médio do pesos das pessoas da lista Familia. \n",
    "# Armazene o resultado na variável peso_medio\n",
    "????\n",
    "print(peso_medio)"
   ]
  },
  {
   "cell_type": "markdown",
   "metadata": {},
   "source": [
    "Modificar elementos de uma lista\n",
    "- lista[elemento] = novo_valor\n",
    "\n",
    "Incluir elementos em lista\n",
    "- lista3 = lista1 + lista3\n",
    "\n",
    "Remover Elementos em Lista\n",
    "- del(lista[elemento])"
   ]
  },
  {
   "cell_type": "code",
   "execution_count": null,
   "metadata": {
    "collapsed": true
   },
   "outputs": [],
   "source": [
    "# Exercício 16 - Homework\n",
    "# Dado o Exercício 11\n",
    "# Inclua mais uma filho, denominado Filho2 na lista Familia\n",
    "\n",
    "print(Familia)"
   ]
  },
  {
   "cell_type": "code",
   "execution_count": null,
   "metadata": {
    "collapsed": true
   },
   "outputs": [],
   "source": [
    "# Exercício 17 - Homework\n",
    "# Dado o Exercício 11\n",
    "# Remova Filho da lista Familia\n",
    "# O que ocorre com os índices da lista Familia?\n",
    "\n",
    "print(Familia)"
   ]
  },
  {
   "cell_type": "code",
   "execution_count": null,
   "metadata": {
    "collapsed": true
   },
   "outputs": [],
   "source": [
    "# Exercício 18\n",
    "# Remova pela ordem a string \"poolhouse\" e o valor de sua área\n",
    "areas = [\"hallway\", 11.25, \"kitchen\", 18.0,\n",
    "        \"chill zone\", 20.0, \"bedroom\", 10.75,\n",
    "         \"bathroom\", 10.50, \"poolhouse\", 24.5,\n",
    "         \"garage\", 15.45]\n",
    "del(areas[10:12])\n",
    "#del(areas[10])\n",
    "print(areas)"
   ]
  },
  {
   "cell_type": "code",
   "execution_count": null,
   "metadata": {
    "collapsed": true
   },
   "outputs": [],
   "source": [
    "# Cópia de lista: diferença entre atribuição e cópia de listas\n",
    "# Criação de lista\n",
    "lista1 = [11.25, 18.0, 20.0, 10.75, 9.50]\n",
    "\n",
    "# Atribuição e copia de listas\n",
    "#lista2 = lista1\n",
    "lista2 = list(lista1)\n",
    "#lista2 = lista1[:]\n",
    "\n",
    "# Modificação na lista\n",
    "lista2[0] = 5.0\n",
    "\n",
    "# Print lista1\n",
    "print(lista1)"
   ]
  },
  {
   "cell_type": "markdown",
   "metadata": {},
   "source": [
    "Função em Python\n",
    "- Há diversas funções úteis já disponíveis em Python\n",
    "    - type(variavel)\n",
    "    - print(variavel)\n",
    "    - str(variavel); float(variavel); ...\n",
    "    - max(variavel)\n",
    "    - min(variavel)\n",
    "    - mean(variavel)\n",
    "    - round(valor,precisao), round(valor)\n",
    "    - complex(valor)\n",
    "    - sorted(iterable, key, reverse)\n",
    "    - help(funcao)"
   ]
  },
  {
   "cell_type": "code",
   "execution_count": null,
   "metadata": {
    "collapsed": true
   },
   "outputs": [],
   "source": [
    "# Exemplos\n",
    "# Criar variáveis var1 e var2\n",
    "var1 = [1, 2, 3, 4]\n",
    "var2 = True\n",
    "\n",
    "# Print tipo (type) de var1\n",
    "print(type(var1))\n",
    "\n",
    "# Print o tamanho de var1\n",
    "print(len(var1))\n",
    "\n",
    "# Converter var2 paar um inteiro: out2\n",
    "out2 = int(var2)"
   ]
  },
  {
   "cell_type": "code",
   "execution_count": null,
   "metadata": {
    "collapsed": true
   },
   "outputs": [],
   "source": [
    "help(max)"
   ]
  },
  {
   "cell_type": "code",
   "execution_count": null,
   "metadata": {
    "collapsed": true
   },
   "outputs": [],
   "source": [
    "?max"
   ]
  },
  {
   "cell_type": "code",
   "execution_count": null,
   "metadata": {
    "collapsed": true
   },
   "outputs": [],
   "source": [
    "# Teste essas opções e conclua com funciona o número complexo\n",
    "complex()\n",
    "complex(1)\n",
    "complex(1,2)"
   ]
  },
  {
   "cell_type": "code",
   "execution_count": null,
   "metadata": {
    "collapsed": true
   },
   "outputs": [],
   "source": [
    "# Execute o comando help()\n",
    "help(sorted)"
   ]
  },
  {
   "cell_type": "code",
   "execution_count": null,
   "metadata": {
    "collapsed": true
   },
   "outputs": [],
   "source": [
    "# Exemplo\n",
    "# Criar duas listas:first e second\n",
    "first = [11.25, 18.0, 20.0]\n",
    "second = [10.75, 9.50]\n",
    "\n",
    "# Unir as duas listas na lista full\n",
    "full = first + second\n",
    "\n",
    "# Ordenar a lista full em ordem decrscente e armazenar o resultado na lista full_sorted\n",
    "#full_sorted = sorted(full, reverse = True)\n",
    "full_sorted = sorted(full)\n",
    "\n",
    "# Print a lista full_sorted\n",
    "print(full_sorted)\n",
    "\n",
    "# Investigue se não se utilizar o parâmetro reserve\n",
    "\n",
    "# Qual é a utilidade do parâmetro key?"
   ]
  },
  {
   "cell_type": "markdown",
   "metadata": {},
   "source": [
    "Em Python, todos os tipos de variáveis são classe.\n",
    "- As variáveis são objetos de classes específicas\n",
    "\n",
    "Assim, todas as variáveis possuem métodos específicos.\n",
    "- Os métodos são funções pertencentes a objetos\n",
    "\n",
    "Para acessar métodos, devemos utilizar a seguinte sintase:\n",
    "- variavel.metodo(parametros)"
   ]
  },
  {
   "cell_type": "markdown",
   "metadata": {},
   "source": [
    "Métodos da classe String\n",
    "\n",
    "- As strings possuem com um monte de métodos específicos.\n",
    "- Para verificar mais detalhadamente, você sempre pode digitar help (str) no IPython Shell."
   ]
  },
  {
   "cell_type": "code",
   "execution_count": null,
   "metadata": {
    "collapsed": true
   },
   "outputs": [],
   "source": [
    "# Exemplo\n",
    "# string room\n",
    "room = \"poolhouse\"\n",
    "\n",
    "# Use o método upper() sobre a string room. Armazene a resposta em room_up\n",
    "room_up = room.upper()\n",
    "\n",
    "# Print as strings room e room_up\n",
    "print(room)\n",
    "print(room_up)\n",
    "\n",
    "# Print o número de ocorrência da letra \"o\" na string room\n",
    "print(room.count(\"o\"))"
   ]
  },
  {
   "cell_type": "code",
   "execution_count": null,
   "metadata": {
    "collapsed": true
   },
   "outputs": [],
   "source": [
    "Alguns métodos de Listas\n",
    "- lista.index(parametro)\n",
    "- lista(count(parametro))\n",
    "- append()\n",
    "- remove(), remove o primeiro elemento da lista que casa com o parâmetro\n",
    "- reversed(), reverte a ordem dos elementos\n"
   ]
  },
  {
   "cell_type": "code",
   "execution_count": null,
   "metadata": {
    "collapsed": true
   },
   "outputs": [],
   "source": [
    "frase = \"socorram me subi no onibus em marrocos\"\n",
    "print(frase[::-1])\n",
    "frase1 = \"o po de cocaina mata maniaco cedo po\"\n",
    "print(frase1[::-1])"
   ]
  },
  {
   "cell_type": "code",
   "execution_count": null,
   "metadata": {
    "collapsed": true
   },
   "outputs": [],
   "source": [
    "# Criar a lista areas\n",
    "areas = [11.25, 18.0, 20.0, 10.75, 9.50]\n",
    "\n",
    "# Print o índice do elemento 20.0 na lista\n",
    "print(areas.index(20.0))\n",
    "\n",
    "# Print a quantidade de vezes que 14.5 apareace em areas\n",
    "\n",
    "print(areas.count(14.5))"
   ]
  },
  {
   "cell_type": "code",
   "execution_count": null,
   "metadata": {
    "collapsed": true
   },
   "outputs": [],
   "source": [
    "# Exercício 19 Homework\n",
    "#Criar a lista areas\n",
    "areas = [11.25, 18.0, 20.0, 10.75, 9.50]\n",
    "\n",
    "# Use o método append duas vezes para incluir os valores 24.5 e 15.45 no final da lista areas\n",
    "\n",
    "???????\n",
    "\n",
    "# Print a lista areas\n",
    "?????\n",
    "\n",
    "# Invera a ordem dos elementos na lista areas via o método reserve\n",
    "?????\n",
    "\n",
    "# Print a lista areas\n",
    "print(areas)"
   ]
  },
  {
   "cell_type": "markdown",
   "metadata": {},
   "source": [
    "Módulos em Python\n",
    "- Modulos agrupam funções, métodos e tipos específicos\n",
    "\n",
    "Pacotes são implementações Módulos disponíveis em Python \n",
    "- Há centenas de pacotes disponíveis em Python.\n",
    "\n",
    "Importação de Pacotes em Python (importa todo o pacote)\n",
    "- import pacote_desejado\n",
    "- import math\n",
    "\n",
    "Para usar funções do pacotes:\n",
    "- pacote_desejado.metodo_desejado(parametros)\n",
    "- pacote_desejado.variavel_desejada\n",
    "- math.pi\n",
    "\n",
    "Para importar apenas um módulo específico de um pacote, utilizamos:\n",
    "- from pacote_desejado import modulo_desejado\n",
    "\n",
    "Exemplo: importa só o pacote sqrt do pacote math\n",
    "\n",
    "- from math import sqrt    \n",
    "- print(sqrt(25))\n",
    "\n",
    "Ao utilizar \"from package import item\", o item pode ser um subpacote, submódulo, classe, função ou variável."
   ]
  },
  {
   "cell_type": "code",
   "execution_count": null,
   "metadata": {
    "collapsed": true
   },
   "outputs": [],
   "source": [
    "# Exemplo\n",
    "# Importar pacote math \n",
    "import math\n",
    "\n",
    "# Definição de raio\n",
    "r = 0.43\n",
    "\n",
    "\n",
    "# Cálculo de C\n",
    "C = 2 * r * math.pi\n",
    "\n",
    "# Cálculo de A\n",
    "A = math.pi * r ** 2\n",
    "\n",
    "# print valores da Circunferência e Área\n",
    "print(\"Circunferência: \" + str(C))\n",
    "print(\"Área: \" + str(A))"
   ]
  },
  {
   "cell_type": "code",
   "execution_count": null,
   "metadata": {
    "collapsed": true
   },
   "outputs": [],
   "source": [
    "dir(math)"
   ]
  },
  {
   "cell_type": "code",
   "execution_count": null,
   "metadata": {
    "collapsed": true
   },
   "outputs": [],
   "source": [
    "# Exemplo\n",
    "# Definição do raio\n",
    "r = 192500\n",
    "\n",
    "# Importar apenas a função radians do pacote math\n",
    "from math import radians \n",
    "\n",
    "# Calcular o arco correspondente a 12 graus.\n",
    "\n",
    "arco = r* radians(12)\n",
    "\n",
    "# Print o valor de arco\n",
    "print(arco)"
   ]
  },
  {
   "cell_type": "code",
   "execution_count": null,
   "metadata": {
    "collapsed": true
   },
   "outputs": [],
   "source": [
    "# Exemplo\n",
    "# Definição do raio\n",
    "r = 192500\n",
    "\n",
    "# Importar apenas a função radians do pacote math, redefinindo o nome da função\n",
    "from math import radians as mariana\n",
    "\n",
    "# Calcular o arco correspondente a 12 graus.\n",
    "\n",
    "arco = r* mariana(12)\n",
    "\n",
    "# Print o valor de arco\n",
    "print(arco)"
   ]
  },
  {
   "cell_type": "markdown",
   "metadata": {},
   "source": [
    "Alguns exemplos de funções matemáticas:\n",
    "- import math\n"
   ]
  },
  {
   "cell_type": "code",
   "execution_count": null,
   "metadata": {
    "collapsed": true
   },
   "outputs": [],
   "source": [
    "#Exemplos de Uso\n",
    "import math\n",
    "print(math.exp(1.0))\n",
    "print(math.pi)\n",
    "print(math.e)\n",
    "print(math.cos( math.pi))\n",
    "teta = 0.7\n",
    "y = math.sin(teta) ** 2 + math.cos(teta) ** 2\n",
    "print(y)"
   ]
  },
  {
   "cell_type": "markdown",
   "metadata": {},
   "source": [
    "Comando de Controle de Fluxo\n",
    "- If\n",
    "\n",
    "    if (condição_lógica):\n",
    "         comando_1\n",
    "         comando_2\n",
    "         ...\n",
    "         comando_n\n",
    "         \n"
   ]
  },
  {
   "cell_type": "markdown",
   "metadata": {},
   "source": [
    "- If-then-Else\n",
    "\n",
    "    if (condição_lógica):\n",
    "         comando_1\n",
    "         comando_2\n",
    "         ...\n",
    "         comando_n\n",
    "     else:\n",
    "         comando_k1\n",
    "         comando_k2\n",
    "         ...\n",
    "         comando_kn"
   ]
  },
  {
   "cell_type": "markdown",
   "metadata": {},
   "source": [
    "Descubra o erro do programa abaixo"
   ]
  },
  {
   "cell_type": "code",
   "execution_count": null,
   "metadata": {
    "collapsed": true
   },
   "outputs": [],
   "source": [
    "# Exemplo de uso do comando if\n",
    "\n",
    "a = 34\n",
    "if a > 0:\n",
    "print (\"a is positive \")"
   ]
  },
  {
   "cell_type": "code",
   "execution_count": null,
   "metadata": {
    "collapsed": true
   },
   "outputs": [],
   "source": [
    "# Exemplo de uso do comando if\n",
    "a = 34\n",
    "if a > 0:\n",
    " print (\"a é positivo \")\n",
    "print(\"Identação é FUNDAMENTAL em Python\")"
   ]
  },
  {
   "cell_type": "code",
   "execution_count": null,
   "metadata": {
    "collapsed": true
   },
   "outputs": [],
   "source": [
    "# Exemplo de uso do comando if-else\n",
    "a = 34\n",
    "if a > 0:\n",
    "  print (\"O valor de a é positivo\")\n",
    "else :\n",
    "  print (\"O valor de a não é positivo\")\n"
   ]
  },
  {
   "cell_type": "code",
   "execution_count": null,
   "metadata": {
    "collapsed": true
   },
   "outputs": [],
   "source": [
    "# Exemplo de uso do comando if-elif-else\n",
    "a = 17\n",
    "if a == 0:\n",
    " print (\"a is zero \")\n",
    "elif a < 0:\n",
    " print (\"a is negative \")\n",
    "else :\n",
    " print (\"a is positive \")"
   ]
  },
  {
   "cell_type": "markdown",
   "metadata": {},
   "source": [
    "Comando de repetição (loops)\n",
    "- Comando for\n",
    "\n",
    "    for (variavel) in (sequencia):\n",
    "       comando_1\n",
    "       comando_2\n",
    "       ...\n",
    "       comando_n\n",
    "- Comando while\n",
    "    \n",
    "    while (condicao):\n",
    "       comando_1\n",
    "       comando_2\n",
    "       ...\n",
    "       comando_n"
   ]
  },
  {
   "cell_type": "code",
   "execution_count": null,
   "metadata": {
    "collapsed": true
   },
   "outputs": [],
   "source": [
    "# Exemplos de uso do comando for\n",
    "print(\"Primeiro print\")\n",
    "for i in range(2,5):\n",
    "    print(i)\n",
    "print(\"Segundo print\")\n",
    "for i in range(5):\n",
    "    print(i)\n",
    "print(\"Terceiro print\")\n",
    "lista = [\"p\", \"y\", \"t\", \"h\", \"o\", \"n\"]\n",
    "for item in lista:\n",
    "    print (item)"
   ]
  },
  {
   "cell_type": "code",
   "execution_count": null,
   "metadata": {
    "collapsed": true
   },
   "outputs": [],
   "source": [
    "# Exemplo de uso do comando for\n",
    "for x in [1,2,3]:\n",
    " print(x)"
   ]
  },
  {
   "cell_type": "code",
   "execution_count": null,
   "metadata": {
    "collapsed": true
   },
   "outputs": [],
   "source": [
    "# Exemplo de uso do comando for\n",
    "print(\"Uso do enumerate para se obter índice numérico\")\n",
    "for indice, valor in enumerate([\"p\", \"y\", \"t\", \"h\", \"o\", \"n\"]):\n",
    "    print (indice, valor)"
   ]
  },
  {
   "cell_type": "code",
   "execution_count": null,
   "metadata": {
    "collapsed": true
   },
   "outputs": [],
   "source": [
    "#Exemplo - É possível implementar do comando \"for\" via lista\n",
    "lista1 = [x**2 for x in range(0,5)]\n",
    "print(lista1)"
   ]
  },
  {
   "cell_type": "code",
   "execution_count": null,
   "metadata": {
    "collapsed": true
   },
   "outputs": [],
   "source": [
    "#Exemplo - É possível implementar do comando \"for\" via lista\n",
    "lista2 = [True, \"2\", 3.0, 4]\n",
    "[type(item) for item in lista2]"
   ]
  },
  {
   "cell_type": "code",
   "execution_count": null,
   "metadata": {
    "collapsed": true
   },
   "outputs": [],
   "source": [
    "# Exemplo de uso do comando while\n",
    "count = 0\n",
    "while count <= 5:\n",
    "    print(count)\n",
    "    count += 1"
   ]
  },
  {
   "cell_type": "code",
   "execution_count": null,
   "metadata": {
    "collapsed": true
   },
   "outputs": [],
   "source": [
    "# Exemplo de uso do comando while com break\n",
    "count = 0\n",
    "while count <= 5:\n",
    "    print(count)\n",
    "    count += 1\n",
    "    if count > 3: break"
   ]
  },
  {
   "cell_type": "code",
   "execution_count": null,
   "metadata": {
    "collapsed": true
   },
   "outputs": [],
   "source": [
    "# Comando else no final de um loop é executado após o término do loop\n",
    "#\n",
    "# Loop while\n",
    "#\n",
    "count = 0\n",
    "while count <= 5:\n",
    "    print(count)\n",
    "    count += 1\n",
    "    if(count == 3):break\n",
    "else:\n",
    "    print('após iteração')\n",
    "\n",
    "#\n",
    "# Loop for\n",
    "#\n",
    "for i in range(5):\n",
    "    print(i)\n",
    "else:\n",
    "    print('após iteração')\n"
   ]
  },
  {
   "cell_type": "markdown",
   "metadata": {},
   "source": [
    "Definição de Função em Python\n",
    "    \n",
    "    def funcao(lista_parametros):\n",
    "       comando_1\n",
    "       comando_2\n",
    "       ...\n",
    "       comando_n\n",
    "       return(variavel_de_saida)"
   ]
  },
  {
   "cell_type": "code",
   "execution_count": 2,
   "metadata": {
    "collapsed": true
   },
   "outputs": [],
   "source": [
    "def hello(meu_nome):\n",
    "  print('Olá,',meu_nome, \".\")"
   ]
  },
  {
   "cell_type": "code",
   "execution_count": 3,
   "metadata": {},
   "outputs": [
    {
     "name": "stdout",
     "output_type": "stream",
     "text": [
      "Olá, John Snow. You now nothing! .\n"
     ]
    }
   ],
   "source": [
    "hello(\"John Snow. You now nothing!\")"
   ]
  },
  {
   "cell_type": "code",
   "execution_count": null,
   "metadata": {
    "collapsed": true
   },
   "outputs": [],
   "source": [
    "def hello(meu_nome,idade):\n",
    "  print('Olá, ',meu_nome,'\\nSua idade é:',idade)"
   ]
  },
  {
   "cell_type": "code",
   "execution_count": null,
   "metadata": {
    "collapsed": true
   },
   "outputs": [],
   "source": [
    "hello(\"João da Silva\", 21)"
   ]
  },
  {
   "cell_type": "code",
   "execution_count": null,
   "metadata": {
    "collapsed": true
   },
   "outputs": [],
   "source": [
    "def calcular_pagamento(qtd_horas, valor_hora):\n",
    "    horas = float(qtd_horas)\n",
    "    taxa = float(valor_hora)\n",
    "    if horas <= 40:\n",
    "        salario=horas*taxa\n",
    "    else:\n",
    "        h_excd = horas - 40\n",
    "        salario = 40*taxa+(h_excd*(1.5*taxa))\n",
    "    return (salario)"
   ]
  },
  {
   "cell_type": "code",
   "execution_count": null,
   "metadata": {
    "collapsed": true
   },
   "outputs": [],
   "source": [
    "# Exemplo de função com valor de retorno\n",
    "def calcular_pagamento(horas, taxa):\n",
    " salario=float(horas)*float(taxa)\n",
    " return (salario)"
   ]
  },
  {
   "cell_type": "code",
   "execution_count": null,
   "metadata": {
    "collapsed": true
   },
   "outputs": [],
   "source": [
    "total_salario = calcular_pagamento(40,20)\n",
    "print('O valor de seus rendimentos é R$',total_salario)"
   ]
  },
  {
   "cell_type": "code",
   "execution_count": null,
   "metadata": {
    "collapsed": true
   },
   "outputs": [],
   "source": [
    "str_horas= input('Digite as horas: ')\n",
    "str_taxa=input('Digite a taxa: ')"
   ]
  },
  {
   "cell_type": "code",
   "execution_count": null,
   "metadata": {
    "collapsed": true
   },
   "outputs": [],
   "source": [
    "print(str_horas)\n",
    "print(str_taxa)\n",
    "float_horas = float(str_horas)\n",
    "float_taxa = float(str_taxa)"
   ]
  },
  {
   "cell_type": "code",
   "execution_count": null,
   "metadata": {
    "collapsed": true
   },
   "outputs": [],
   "source": [
    "print(float_horas)\n",
    "print(float_taxa)\n",
    "total_salario = calcular_pagamento(float_horas,float_taxa)\n",
    "print('O valor de seus rendimentos é R$',total_salario)"
   ]
  },
  {
   "cell_type": "code",
   "execution_count": null,
   "metadata": {
    "collapsed": true
   },
   "outputs": [],
   "source": [
    "# Exemplo de função - retorno mais de uma variável\n",
    "print(\"Programa com exemplo para função que retorna mais de uma variável.\")\n",
    "def powers(x):\n",
    " #Retorna o quadrado, o cubo e a quarta potência de um dado número x.\"\"\"\n",
    " return x ** 2, x ** 3, x ** 4\n",
    "print(powers(2))\n",
    "x2, x3, x4 = powers(3)\n",
    "print(\"x2=\",x2,\" x3=\",x3,\"x4=\", x4)"
   ]
  },
  {
   "cell_type": "markdown",
   "metadata": {},
   "source": [
    "Na definição de uma função, podemos dar defaults nos argumentos da função"
   ]
  },
  {
   "cell_type": "code",
   "execution_count": 4,
   "metadata": {},
   "outputs": [
    {
     "name": "stdout",
     "output_type": "stream",
     "text": [
      "Exemplo de uso de função com parámetros 'default'\n",
      "25\n",
      "Mensagem do módulo debug da função myfunc para x = 5 elevado 2\n",
      "25\n",
      "Mensagem do módulo debug da função myfunc para x = 5 elevado 3\n",
      "125\n",
      "125\n",
      "Mensagem do módulo debug da função myfunc para x = 5 elevado 3\n",
      "125\n",
      "125\n"
     ]
    }
   ],
   "source": [
    "# Exemplo de função - Valores Default em funçã\n",
    "\n",
    "print(\"Exemplo de uso de função com parámetros 'default'\")\n",
    "\n",
    "def myfunc(x, p=2, debug=False):\n",
    "  if debug:\n",
    "   print(\"Mensagem do módulo debug da função myfunc para x = \" + str(x) + \" elevado \" + str(p))\n",
    "  return x**p\n",
    "\n",
    "print(myfunc(5))\n",
    "print(myfunc(5, debug=True))\n",
    "print(myfunc(p=3, debug=True, x=5))\n",
    "print(myfunc(5, 3))\n",
    "print(myfunc(5, 3, True))\n",
    "print(myfunc(5, 3, False))"
   ]
  },
  {
   "cell_type": "markdown",
   "metadata": {},
   "source": [
    "Em Python, também podemos criar funções sem nome, usando a palavra-chave lambda:\n",
    "\n",
    "- nome_da_funcao  = lambda <parametro>: comandos"
   ]
  },
  {
   "cell_type": "code",
   "execution_count": 6,
   "metadata": {
    "collapsed": true
   },
   "outputs": [],
   "source": [
    "# Exemplo de uso de função sem nome - Lambda Function\n",
    "# f1 e f2 são equivalentes\n",
    "\n",
    "f1 = lambda x: x**2\n",
    "\n",
    "\n",
    "def f2(x):\n",
    " return x**2"
   ]
  },
  {
   "cell_type": "code",
   "execution_count": 7,
   "metadata": {},
   "outputs": [
    {
     "data": {
      "text/plain": [
       "(4, 4)"
      ]
     },
     "execution_count": 7,
     "metadata": {},
     "output_type": "execute_result"
    }
   ],
   "source": [
    "f1(2), f2(2)"
   ]
  },
  {
   "cell_type": "markdown",
   "metadata": {},
   "source": [
    "Esta técnica é útil, por exemplo, quando queremos passar uma única função como um argumento para outra Função.\n",
    "\n",
    "Considere a função map(f, s), que aplica a função f para todos os elementos da sequência s. "
   ]
  },
  {
   "cell_type": "code",
   "execution_count": 8,
   "metadata": {},
   "outputs": [
    {
     "data": {
      "text/plain": [
       "[9, 4, 1, 0, 1, 4, 9]"
      ]
     },
     "execution_count": 8,
     "metadata": {},
     "output_type": "execute_result"
    }
   ],
   "source": [
    "# Exemplo de uso da função map(),que retorna um objeto genérico\n",
    "def f(x):\n",
    "    return (x ** 2)\n",
    "lista2 = map(f, range (-3,4))\n",
    "list(lista2)"
   ]
  },
  {
   "cell_type": "code",
   "execution_count": 9,
   "metadata": {},
   "outputs": [
    {
     "data": {
      "text/plain": [
       "[9, 4, 1, 0, 1, 4, 9]"
      ]
     },
     "execution_count": 9,
     "metadata": {},
     "output_type": "execute_result"
    }
   ],
   "source": [
    "# Exemplo de uso da função map() com função anônima - lambda\n",
    "lista3 = map(lambda x: x**2, range(-3,4))\n",
    "list(lista3)"
   ]
  },
  {
   "cell_type": "markdown",
   "metadata": {},
   "source": [
    "Uso de Classes e Objetos:\n",
    "\n",
    "- As classes são as principais características da programação orientada a objetos. \n",
    "- Uma classe é uma estrutura para representar um objeto e as operações que podem ser realizadas sobre ele. Assim, uma classe pode conter atributos (variáveis) e métodos (funções).\n",
    "- Uma classe é definida quase como uma função, mas usando a palavra-chave  \"classe\".\n",
    "- A definição da classe geralmente contém uma série de método de classe (uma função em uma classe).\n",
    "- Cada método de classe deve ter um argumento denominado de \"self\" como primeiro argumento. Isto é uma auto-referência ao objeto.\n",
    "- Alguns nomes de métodos de classe têm um significado especial, por exemplo:\n",
    "    - _init_: construtor da classe - O nome do método que é invocado quando o primeiro objeto é criado.\n",
    "    - _str_: Um método que é invocado quando uma representação de uma string da classe é necessária, como, por exemplo, quando deseja-se usar um print()."
   ]
  },
  {
   "cell_type": "code",
   "execution_count": 11,
   "metadata": {
    "collapsed": true
   },
   "outputs": [],
   "source": [
    "# Criação da Classe Ponto\n",
    "class Ponto:  \n",
    " def __init__(self, x, y):\n",
    "  self.x = x\n",
    "  self.y = y\n",
    " \n",
    " def translacao(self, dx, dy):\n",
    "  self.x += dx\n",
    "  self.y += dy\n",
    "    \n",
    " def __str__(self):\n",
    "  return(\"O ponto está no posição [%f, %f]\" % (self.x, self.y))"
   ]
  },
  {
   "cell_type": "code",
   "execution_count": 12,
   "metadata": {},
   "outputs": [
    {
     "name": "stdout",
     "output_type": "stream",
     "text": [
      "O ponto está no posição [0.000000, 0.000000]\n"
     ]
    }
   ],
   "source": [
    "# Criação de um objeto p1 da classe Ponto \n",
    "p1 = Ponto(0, 0) \n",
    "print(p1)"
   ]
  },
  {
   "cell_type": "code",
   "execution_count": 13,
   "metadata": {},
   "outputs": [
    {
     "name": "stdout",
     "output_type": "stream",
     "text": [
      "O ponto está no posição [0.250000, 1.500000]\n",
      "O ponto está no posição [1.000000, 1.000000]\n",
      "0.25 1.5\n",
      "1 1\n"
     ]
    }
   ],
   "source": [
    "p2 = Ponto(1, 1)\n",
    "p1.translacao(0.25, 1.5)\n",
    "print(p1)\n",
    "print(p2)\n",
    "print(p1.x, p1.y)\n",
    "print(p2.x, p2.y)"
   ]
  },
  {
   "cell_type": "code",
   "execution_count": 28,
   "metadata": {
    "collapsed": true
   },
   "outputs": [],
   "source": [
    "# Exercício - inclua os seguintes métodos na Classe Ponto\n",
    "# rotacao(angula_em_radiano), sem retorno\n",
    "# distancia(Ponto ponto1), retorna a distância do ponto dado (parâmetro) ao ponto\n",
    "\n"
   ]
  },
  {
   "cell_type": "markdown",
   "metadata": {},
   "source": [
    "### Tipo de Dado Dicionário em Python\n",
    "\n",
    "- Dicionário é um tipo de coleção, como lista, porém poderem usar qualquer tipo imutavel de dados como indice.Isto é feito a partir de uma chave, que pode ser qualquer tipo imutável, para um valor, que pode ser qualquer objeto de dados do Python.\n",
    "- Uma maneira de criar um dicionario é comecando com um dicionário vazio e depois adiconar elementos. Um dicionário vazio é denotado assim {}:"
   ]
  },
  {
   "cell_type": "code",
   "execution_count": 30,
   "metadata": {},
   "outputs": [
    {
     "data": {
      "text/plain": [
       "{'dois': 'two', 'um': 'one'}"
      ]
     },
     "execution_count": 30,
     "metadata": {},
     "output_type": "execute_result"
    }
   ],
   "source": [
    "# Exemplo: dicionário de Portugues para Ingles\n",
    "\n",
    "por_Para_ing = {}    # início do dicionário\n",
    "por_Para_ing['um'] = 'one'\n",
    "por_Para_ing['dois'] = 'two'\n",
    "por_Para_ing"
   ]
  },
  {
   "cell_type": "code",
   "execution_count": 31,
   "metadata": {},
   "outputs": [
    {
     "data": {
      "text/plain": [
       "'one'"
      ]
     },
     "execution_count": 31,
     "metadata": {},
     "output_type": "execute_result"
    }
   ],
   "source": [
    "por_Para_ing['um']"
   ]
  },
  {
   "cell_type": "code",
   "execution_count": 32,
   "metadata": {},
   "outputs": [
    {
     "data": {
      "text/plain": [
       "{'dois': 'two', 'três': 'three', 'um': 'one'}"
      ]
     },
     "execution_count": 32,
     "metadata": {},
     "output_type": "execute_result"
    }
   ],
   "source": [
    "por_Para_ing['três'] = 'three'\n",
    "por_Para_ing"
   ]
  },
  {
   "cell_type": "code",
   "execution_count": 20,
   "metadata": {},
   "outputs": [
    {
     "data": {
      "text/plain": [
       "{'one': 'um', 'three': 'três', 'two': 'dois'}"
      ]
     },
     "execution_count": 20,
     "metadata": {},
     "output_type": "execute_result"
    }
   ],
   "source": [
    "# Exemplo: dicionário de Portugues para Ingles\n",
    "ing_Para_por = {'one': 'um', 'two': 'dois', 'three': 'três'}\n",
    "ing_Para_por"
   ]
  },
  {
   "cell_type": "code",
   "execution_count": null,
   "metadata": {
    "collapsed": true
   },
   "outputs": [],
   "source": [
    "# Comandos\n",
    "- del       Remove um par chave-valor de um dicionário\n",
    "- len       Retorna a quantidade de itens"
   ]
  },
  {
   "cell_type": "code",
   "execution_count": 15,
   "metadata": {},
   "outputs": [
    {
     "data": {
      "text/plain": [
       "3"
      ]
     },
     "execution_count": 15,
     "metadata": {},
     "output_type": "execute_result"
    }
   ],
   "source": [
    "len(ing_Para_por)"
   ]
  },
  {
   "cell_type": "code",
   "execution_count": 21,
   "metadata": {},
   "outputs": [
    {
     "data": {
      "text/plain": [
       "{'one': 'um', 'three': 'três', 'two': 'dois'}"
      ]
     },
     "execution_count": 21,
     "metadata": {},
     "output_type": "execute_result"
    }
   ],
   "source": [
    "ing_Para_por"
   ]
  },
  {
   "cell_type": "code",
   "execution_count": 22,
   "metadata": {},
   "outputs": [
    {
     "data": {
      "text/plain": [
       "{'one': 'um', 'two': 'dois'}"
      ]
     },
     "execution_count": 22,
     "metadata": {},
     "output_type": "execute_result"
    }
   ],
   "source": [
    "del(ing_Para_por['three'])\n",
    "ing_Para_por"
   ]
  },
  {
   "cell_type": "markdown",
   "metadata": {},
   "source": [
    "Dicionários possuem vários métodos nativos úteis.\n",
    "    - keys()  \t \tRetorna uma vista das chaves no dicionário\n",
    "    - values()  \tRetorna uma vista dos valores no dicionário\n",
    "    - items() \t    Retorna uma vista dos pares chave-valor no dicionário\n",
    "    - get(key) \t    Retorna o valor associado com a chave; ou None\n",
    "    - items()       Retorna os dois valores, na forma de uma lista de tuplas - cada tupla com um par chave-valor    "
   ]
  },
  {
   "cell_type": "code",
   "execution_count": 10,
   "metadata": {},
   "outputs": [
    {
     "data": {
      "text/plain": [
       "dict_keys(['um', 'dois'])"
      ]
     },
     "execution_count": 10,
     "metadata": {},
     "output_type": "execute_result"
    }
   ],
   "source": [
    "por_Para_ing.keys()"
   ]
  },
  {
   "cell_type": "code",
   "execution_count": 11,
   "metadata": {},
   "outputs": [
    {
     "data": {
      "text/plain": [
       "dict_values(['one', 'two'])"
      ]
     },
     "execution_count": 11,
     "metadata": {},
     "output_type": "execute_result"
    }
   ],
   "source": [
    "por_Para_ing.values()"
   ]
  },
  {
   "cell_type": "code",
   "execution_count": 26,
   "metadata": {},
   "outputs": [
    {
     "data": {
      "text/plain": [
       "'one'"
      ]
     },
     "execution_count": 26,
     "metadata": {},
     "output_type": "execute_result"
    }
   ],
   "source": [
    "por_Para_ing.get('um')"
   ]
  },
  {
   "cell_type": "code",
   "execution_count": null,
   "metadata": {
    "collapsed": true
   },
   "outputs": [],
   "source": [
    "# Exemplo de uso de dicionários\n",
    "inventario = {'abacaxis': 430, 'bananas': 312, 'laranjas': 525, 'peras': 217}"
   ]
  },
  {
   "cell_type": "code",
   "execution_count": 34,
   "metadata": {},
   "outputs": [
    {
     "data": {
      "text/plain": [
       "{'abacaxis': 430, 'bananas': 312, 'laranjas': 525, 'peras': 217}"
      ]
     },
     "execution_count": 34,
     "metadata": {},
     "output_type": "execute_result"
    }
   ],
   "source": [
    "inventario"
   ]
  },
  {
   "cell_type": "code",
   "execution_count": 36,
   "metadata": {
    "collapsed": true
   },
   "outputs": [],
   "source": [
    "inventario['bananas'] = 311"
   ]
  },
  {
   "cell_type": "code",
   "execution_count": 37,
   "metadata": {},
   "outputs": [
    {
     "data": {
      "text/plain": [
       "{'abacaxis': 430, 'bananas': 311, 'laranjas': 525, 'peras': 217}"
      ]
     },
     "execution_count": 37,
     "metadata": {},
     "output_type": "execute_result"
    }
   ],
   "source": [
    "inventario"
   ]
  },
  {
   "cell_type": "code",
   "execution_count": 40,
   "metadata": {
    "collapsed": true
   },
   "outputs": [],
   "source": [
    "# Exemplo de uso de Dicionário\n",
    "aluno = {\n",
    "    \"nome\": \"joao\",\n",
    "    \"matricula\": 2015200101,\n",
    "    \"idade\": 39,\n",
    "    \"habilidades\": ['python', 'java', 'c/c++']\n",
    "}"
   ]
  },
  {
   "cell_type": "code",
   "execution_count": 42,
   "metadata": {},
   "outputs": [
    {
     "name": "stdout",
     "output_type": "stream",
     "text": [
      "joao\n",
      "39\n",
      "['python', 'java', 'c/c++']\n"
     ]
    }
   ],
   "source": [
    "print(aluno['nome'])\n",
    "print(aluno['idade'])\n",
    "print (aluno['habilidades'])"
   ]
  },
  {
   "cell_type": "markdown",
   "metadata": {},
   "source": [
    "Uso de Módulo\n",
    "\n",
    "- Um dos conceitos mais importantes na boa programação é reutilizar o código e evitar repetições.\n",
    "- A idéia é escrever funções e classes com um propósito e um escopo bem definidos e reutilizá-los em vez de repetir código similar em uma parte diferente de um programa (programação modular). O resultado é geralmente que a legibilidade e a manutenção de um programa são muito melhoradas. O que isso significa na prática é que nossos programas têm menos erros, são mais fáceis de estender e depurar / solucionar problemas.\n",
    "- O Python suporta programação modular em diferentes níveis. Funções e classes são exemplos de ferramentas para programação modular de baixo nível. Os módulos Python são uma construção de programação modular de nível superior, onde podemos coletar variáveis, funções e classes relacionadas em um módulo.\n",
    "- Um módulo python é definido em um arquivo python (com o ponto final do arquivo .py) e pode ser acessível a outros módulos e programas Python usando a instrução import."
   ]
  },
  {
   "cell_type": "code",
   "execution_count": null,
   "metadata": {
    "collapsed": true
   },
   "outputs": [],
   "source": []
  }
 ],
 "metadata": {
  "kernelspec": {
   "display_name": "Python 3",
   "language": "python",
   "name": "python3"
  },
  "language_info": {
   "codemirror_mode": {
    "name": "ipython",
    "version": 3
   },
   "file_extension": ".py",
   "mimetype": "text/x-python",
   "name": "python",
   "nbconvert_exporter": "python",
   "pygments_lexer": "ipython3",
   "version": "3.6.4"
  }
 },
 "nbformat": 4,
 "nbformat_minor": 2
}
