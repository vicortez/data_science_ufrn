{
  "nbformat": 4,
  "nbformat_minor": 0,
  "metadata": {
    "colab": {
      "name": "data_science_1_python_introduction.ipynb",
      "version": "0.3.2",
      "provenance": [],
      "include_colab_link": true
    },
    "kernelspec": {
      "display_name": "Python 3",
      "language": "python",
      "name": "python3"
    }
  },
  "cells": [
    {
      "cell_type": "markdown",
      "metadata": {
        "id": "view-in-github",
        "colab_type": "text"
      },
      "source": [
        "[View in Colaboratory](https://colab.research.google.com/github/vicortez/data_science_ufrn/blob/master/introduction/data_science_1_python_introduction.ipynb)"
      ]
    },
    {
      "metadata": {
        "id": "blAfYGDSA3XJ",
        "colab_type": "text"
      },
      "cell_type": "markdown",
      "source": [
        "\n",
        "# Ciência de Dados\n",
        "Prof. Luiz Affonso Guedes\n",
        "Engenharia de Computação - UFRN\n",
        "2018-2"
      ]
    },
    {
      "metadata": {
        "id": "NVARqlsBA3XO",
        "colab_type": "text"
      },
      "cell_type": "markdown",
      "source": [
        "# Introdução à Linguagem Python\n",
        "\n",
        "Objetivo: apresentação das funcionalidades básicas da linguagem Python\n",
        "\n",
        "\n",
        "Conteúdo:\n",
        "- Caracterização da Linguagem Python\n",
        "- Vantagens\n",
        "- Saída de dados\n",
        "- cálculos básicos\n",
        "- tipo lista\n",
        "- importação de pacotes"
      ]
    },
    {
      "metadata": {
        "id": "qqBwh6IIA3XQ",
        "colab_type": "text"
      },
      "cell_type": "markdown",
      "source": [
        "- Python é uma linguagem de propósito geral - às vezes referida como utilitária - que é projetada para ser simples de ler e escrever. O seu objetivo é ser uma linguagem simples, porém completa.\n",
        "- Linguagem interpretada não tipada.\n",
        "- Liguagem estruturada, mas possui suporte a orientação a objetos.\n"
      ]
    },
    {
      "metadata": {
        "id": "1xz6jrSeA3XT",
        "colab_type": "text"
      },
      "cell_type": "markdown",
      "source": [
        "Uma introdução aos conceitos básicos de Python. Saiba como usar o Python de forma interativa e através de um script. Crie suas primeiras variáveis e familiarize-se com os tipos básicos de dados do Python."
      ]
    },
    {
      "metadata": {
        "id": "mxpVkaT7A3Xa",
        "colab_type": "code",
        "colab": {},
        "outputId": "f9912ee6-ff0e-465e-b0f0-e0a9e4e28c21"
      },
      "cell_type": "code",
      "source": [
        "# Comentário em Python\n",
        "# Imprimir mensagem em Python\n",
        "print(\"Alô, mundo!\")\n",
        "print(5 / 8)\n",
        "print(3 * 5)\n",
        "print(7 + 10)\n",
        "5 -2"
      ],
      "execution_count": 0,
      "outputs": [
        {
          "output_type": "stream",
          "text": [
            "Alô, mundo!\n",
            "0.625\n",
            "15\n",
            "17\n"
          ],
          "name": "stdout"
        },
        {
          "output_type": "execute_result",
          "data": {
            "text/plain": [
              "3"
            ]
          },
          "metadata": {
            "tags": []
          },
          "execution_count": 1
        }
      ]
    },
    {
      "metadata": {
        "id": "ae7oZXjwA3Xp",
        "colab_type": "code",
        "colab": {},
        "outputId": "7abd1c3c-4d2a-4b5a-e0e8-89c942f87ccb"
      },
      "cell_type": "code",
      "source": [
        "a = 2\n",
        "a"
      ],
      "execution_count": 0,
      "outputs": [
        {
          "output_type": "execute_result",
          "data": {
            "text/plain": [
              "2"
            ]
          },
          "metadata": {
            "tags": []
          },
          "execution_count": 2
        }
      ]
    },
    {
      "metadata": {
        "id": "TpHmSWr_A3X2",
        "colab_type": "text"
      },
      "cell_type": "markdown",
      "source": [
        "Operadores Lógicos:\n",
        "    - AND --> &  and\n",
        "    - OR --> | or\n",
        "    - not"
      ]
    },
    {
      "metadata": {
        "id": "yAP2InQ_A3X6",
        "colab_type": "code",
        "colab": {},
        "outputId": "2002b3a2-1a96-4283-b776-273549630abc"
      },
      "cell_type": "code",
      "source": [
        "# Exemplo de uso de operadores lógicos\n",
        "\n",
        "a = True\n",
        "b = False\n",
        "print(a and b)\n",
        "print (a & b)\n",
        "print (a or b)\n",
        "print (a | b)\n",
        "print(not a)"
      ],
      "execution_count": 0,
      "outputs": [
        {
          "output_type": "stream",
          "text": [
            "False\n",
            "False\n",
            "True\n",
            "True\n",
            "False\n"
          ],
          "name": "stdout"
        }
      ]
    },
    {
      "metadata": {
        "id": "y3nbabfaA3YB",
        "colab_type": "code",
        "colab": {},
        "outputId": "98174481-95a0-4b38-833f-918465cb8a93"
      },
      "cell_type": "code",
      "source": [
        "# Exemplo de uso do print\n",
        "print (\"a = %d b = %d\" % (10 ,20))\n",
        "print(\"alô, mundo\", \"Estou estudando Python\", \"tenho\", 24, \"anos\")"
      ],
      "execution_count": 0,
      "outputs": [
        {
          "output_type": "stream",
          "text": [
            "a = 10 b = 20\n",
            "alô, mundo Estou estudando Python tenho 24 anos\n"
          ],
          "name": "stdout"
        }
      ]
    },
    {
      "metadata": {
        "id": "cg6qZxLzA3YN",
        "colab_type": "text"
      },
      "cell_type": "markdown",
      "source": [
        "O Python é perfeitamente adequado para fazer cálculos básicos. Além da adição, subtração, multiplicação e divisão, também há suporte para operações mais avançadas, tais como:\n",
        "- Exponenciação: **. \n",
        "   - Este operador eleva o número à esquerda para o poder do número à sua direita. Por exemplo, 4 ** 2 dará 16.\n",
        "- Modulo:%. Este operador retorna o restante da divisão do número à esquerda pelo número à direita. Por exemplo, 18% 7 é igual a 4.\n",
        "- Divisão inteira: //\n",
        "   - 3/2, dará 1."
      ]
    },
    {
      "metadata": {
        "id": "0B5ynbj7A3YQ",
        "colab_type": "code",
        "colab": {},
        "outputId": "4e8f2eb6-7925-4889-9b94-f438541231b8"
      },
      "cell_type": "code",
      "source": [
        "# Exemplo de uso da Exponenciação\n",
        "print(4 ** 2)\n",
        "\n",
        "# Exemplo de Módulo\n",
        "print(18 % 7)\n",
        "\n",
        "# Exemplo de Divisão Inteira\n",
        "print(3 // 2)\n"
      ],
      "execution_count": 0,
      "outputs": [
        {
          "output_type": "stream",
          "text": [
            "16\n",
            "4\n",
            "1\n"
          ],
          "name": "stdout"
        }
      ]
    },
    {
      "metadata": {
        "id": "2n3kerUfA3Yd",
        "colab_type": "code",
        "colab": {},
        "outputId": "da00bac0-a86d-48ad-afa9-db283d9f2341"
      },
      "cell_type": "code",
      "source": [
        "# Exercício 01\n",
        "print(\"Se você tomou um empréstimo de R$1.000,00 com taxa de juros de 20% ao ano, após 04 anos qual é o valor de sua dívida?\")\n",
        "emprestimo = 1000.0\n",
        "taxa = 0.2\n",
        "anos = 4\n",
        "divida = emprestimo *(1+taxa)**anos\n",
        "print(\"Minha dívida é de \", divida, \"reais, depois de \", anos,\"anos.\" )\n"
      ],
      "execution_count": 0,
      "outputs": [
        {
          "output_type": "stream",
          "text": [
            "Se você tomou um empréstimo de R$1.000,00 com taxa de juros de 20% ao ano, após 04 anos qual é o valor de sua dívida?\n",
            "Minha dívida é de  2073.6 reais, depois de  4 anos.\n"
          ],
          "name": "stdout"
        }
      ]
    },
    {
      "metadata": {
        "id": "E5PT2X5ZA3Yw",
        "colab_type": "text"
      },
      "cell_type": "markdown",
      "source": [
        "Variáveis e Tipos em Python\n",
        "- Em Python, uma variável permite que você se refira a um valor com um nome. Para criar uma variável use =, como este exemplo:\n",
        "\n",
        "x = 5\n",
        "\n",
        "Agora você pode usar o nome dessa variável, x, em vez do valor real, 5.\n",
        "\n",
        "Lembre-se, = em Python significa atribuição, não igualdade!"
      ]
    },
    {
      "metadata": {
        "id": "T2O8JK7NA3Yy",
        "colab_type": "code",
        "colab": {},
        "outputId": "61744b1f-fbef-4522-ea30-5bdb65f2a798"
      },
      "cell_type": "code",
      "source": [
        "x=5\n",
        "x\n",
        "y = 3\n",
        "y\n"
      ],
      "execution_count": 0,
      "outputs": [
        {
          "output_type": "execute_result",
          "data": {
            "text/plain": [
              "3"
            ]
          },
          "metadata": {
            "tags": []
          },
          "execution_count": 10
        }
      ]
    },
    {
      "metadata": {
        "id": "LHg2DlOVA3ZA",
        "colab_type": "code",
        "colab": {},
        "outputId": "ff60982d-cd00-4c67-bab4-1f27769f6e34"
      },
      "cell_type": "code",
      "source": [
        "print(x)"
      ],
      "execution_count": 0,
      "outputs": [
        {
          "output_type": "stream",
          "text": [
            "5\n"
          ],
          "name": "stdout"
        }
      ]
    },
    {
      "metadata": {
        "id": "BXt1YqElA3ZM",
        "colab_type": "code",
        "colab": {}
      },
      "cell_type": "code",
      "source": [
        " x == 6\n",
        "X = 3"
      ],
      "execution_count": 0,
      "outputs": []
    },
    {
      "metadata": {
        "id": "0IZcco6MA3ZR",
        "colab_type": "code",
        "colab": {}
      },
      "cell_type": "code",
      "source": [
        "#Exercício 02\n",
        "print(\"Qual é o valor da variável x?\")\n",
        "print(\"A variável x é igual a \", x)\n",
        "print(\"Qual é o valor da variável X?\")\n",
        "print(\"A variável X é igual a \", X)"
      ],
      "execution_count": 0,
      "outputs": []
    },
    {
      "metadata": {
        "id": "S-R1K_LoA3ZW",
        "colab_type": "code",
        "colab": {}
      },
      "cell_type": "code",
      "source": [
        "# Exercício 03\n",
        "print(\"Reescreva o Exercício 01 utilizando variáveis\")\n",
        "valor = \n",
        "taxa_juros = \n",
        "anos = \n",
        "dívida = \n",
        "print(divida)"
      ],
      "execution_count": 0,
      "outputs": []
    },
    {
      "metadata": {
        "id": "kItskeMNA3Zj",
        "colab_type": "code",
        "colab": {}
      },
      "cell_type": "code",
      "source": [
        "# Exercício 04\n",
        "print(\"Calcule o Índice de Massa Copórea (IMC)\")\n",
        "ruido1 = 5\n",
        "ruido2 = .05\n",
        "peso = 51 + ruido1\n",
        "altura = 1.58 - ruido2\n",
        "\n",
        "IMC = peso /altura**2\n",
        "\n",
        "print(IMC)"
      ],
      "execution_count": 0,
      "outputs": []
    },
    {
      "metadata": {
        "id": "8V1lBd8aA3Zo",
        "colab_type": "text"
      },
      "cell_type": "markdown",
      "source": [
        "Os tipos das variáveis são definidos dinamicamente em Python.\n",
        "- Tipos Básicos em Python\n",
        "    - int --> Inteiro\n",
        "    - flot --> ponto flutuante\n",
        "    - str --> String\n",
        "    - bool --> Booleano (True, False)"
      ]
    },
    {
      "metadata": {
        "id": "zlynPa0BA3Z2",
        "colab_type": "code",
        "colab": {}
      },
      "cell_type": "code",
      "source": [
        "# Exercício 05\n",
        "Nome_aluno = \"John Milk\"\n",
        "nota = 3.8\n",
        "bom_aluno = True\n",
        "idade = 22\n",
        "print(\"Escreva no console os valores dessas variáveis\")"
      ],
      "execution_count": 0,
      "outputs": []
    },
    {
      "metadata": {
        "id": "_3rmuE4zA3aF",
        "colab_type": "code",
        "colab": {}
      },
      "cell_type": "code",
      "source": [
        "# Exercício 06\n",
        "print(\"O que ocorre se se somar um int com um float?\")\n",
        "a = 2\n",
        "b = 1.1\n",
        "c = a+b\n",
        "print(c)"
      ],
      "execution_count": 0,
      "outputs": []
    },
    {
      "metadata": {
        "id": "P3TjzrdpA3aa",
        "colab_type": "code",
        "colab": {}
      },
      "cell_type": "code",
      "source": [
        "# Exercício 07\n",
        "print(\"O que ocorre se se somar duas strings?\")\n",
        "Nome = \"Maria\"\n",
        "Sobrenome = \"Clara\"\n",
        "Nome_Completo = Nome + \" \" + Sobrenome\n",
        "Nome_Completo"
      ],
      "execution_count": 0,
      "outputs": []
    },
    {
      "metadata": {
        "id": "2PbtGc6ZA3ai",
        "colab_type": "code",
        "colab": {}
      },
      "cell_type": "code",
      "source": [
        "# Exercício 08\n",
        "print(\"É possível somar um int com um str?\")\n",
        "Nome = \"Maria\"\n",
        "Idade = 18\n",
        "Nome + Idade"
      ],
      "execution_count": 0,
      "outputs": []
    },
    {
      "metadata": {
        "id": "grMw07MFA3av",
        "colab_type": "code",
        "colab": {}
      },
      "cell_type": "code",
      "source": [
        "# Exercício 09\n",
        "# Use a função type(variavel) para obter o tipo da variável.\n",
        "x1 = 1\n",
        "x2 = \"aeiou\"\n",
        "x3 = False\n",
        "print(type(x1))\n",
        "print(type(x2))\n",
        "type(x3)"
      ],
      "execution_count": 0,
      "outputs": []
    },
    {
      "metadata": {
        "id": "nGVdPms_A3a7",
        "colab_type": "text"
      },
      "cell_type": "markdown",
      "source": [
        "Para se converter tipos em outros, em Python se utiliza as seguintes funções:\n",
        "- str(variavel) <-- converte variavel para string\n",
        "- int(variavel) <-- converte variavel para inteiro\n",
        "- float(variavel) <-- converte variavel para ponto flutuante\n",
        "- bool((variavel) <-- converte variavel para booleano"
      ]
    },
    {
      "metadata": {
        "id": "AfVID-YWA3bB",
        "colab_type": "code",
        "colab": {}
      },
      "cell_type": "code",
      "source": [
        "# Exercício 10\n",
        "# Escreva um programa que converta uma variável \"idade\" que é inteiro  em string.\n",
        "Idade = 22\n",
        "Nome = \"João \"\n",
        "# A saída de ser --> João tem 22 anos.\n",
        "print(Nome + str(Idade))"
      ],
      "execution_count": 0,
      "outputs": []
    },
    {
      "metadata": {
        "id": "wzMDhOQSA3bL",
        "colab_type": "code",
        "colab": {}
      },
      "cell_type": "code",
      "source": [
        "# Curiosidade\n",
        "\"Eu sou \" + (\"ga\")*3 + \"go\"\n"
      ],
      "execution_count": 0,
      "outputs": []
    },
    {
      "metadata": {
        "id": "2cKa93ZyA3bQ",
        "colab_type": "code",
        "colab": {}
      },
      "cell_type": "code",
      "source": [
        "# Curiosidade\n",
        "# Teste essas opções\n",
        "#False + True\n",
        "#False * True\n",
        "False - True"
      ],
      "execution_count": 0,
      "outputs": []
    },
    {
      "metadata": {
        "id": "riYszKLgA3bU",
        "colab_type": "text"
      },
      "cell_type": "markdown",
      "source": [
        "Tipo list\n",
        "- tipo complexo, que representa uma lista de outras variáveis, não necessariamente de mesmo tipos.\n",
        "- As variáveis podem ser listas. No caso, teremos listas de listas\n",
        "\n",
        "Exemplo:\n",
        "\n",
        "lista1 = [1,2,3]\n",
        "\n",
        "lista2 = [\"Maria\", \"1.66\", 22, True]  #[Nome, Altura, Idade, Boa_estudante]"
      ]
    },
    {
      "metadata": {
        "id": "uaeE9t-OA3bU",
        "colab_type": "code",
        "colab": {}
      },
      "cell_type": "code",
      "source": [
        "# Lista com variáveis de mesmo tipo\n",
        "# Áreas dos cômodos (em metros quadrados)\n",
        "hall = 11.25\n",
        "kit = 18.0\n",
        "liv = 20.0\n",
        "bed = 10.75\n",
        "bath = 9.50\n",
        "\n",
        "# Criação da lista areas\n",
        "areas = [hall, kit, liv, bed, bath]\n",
        "\n",
        "# Print areas\n",
        "print(type(areas))\n",
        "print(areas)"
      ],
      "execution_count": 0,
      "outputs": []
    },
    {
      "metadata": {
        "id": "8X_crAImA3ba",
        "colab_type": "code",
        "colab": {}
      },
      "cell_type": "code",
      "source": [
        "# Lista com variáveis de diferentes tipos\n",
        "# Áreas dos cômodos (em metros quadrados)\n",
        "hall = 11.25\n",
        "kit = 18.0\n",
        "liv = 20.0\n",
        "bed = 10.75\n",
        "bath = 9.50\n",
        "\n",
        "# Criação da lista areas\n",
        "areas = [\"hallway\", hall, \"kitchen\", kit, \"living room\", liv, \"bedroom\", bed, \"bathroom\", bath]\n",
        "\n",
        "# Print areas\n",
        "print(areas)\n"
      ],
      "execution_count": 0,
      "outputs": []
    },
    {
      "metadata": {
        "id": "pKp1dtKVA3bk",
        "colab_type": "code",
        "colab": {}
      },
      "cell_type": "code",
      "source": [
        "# Lista de Lista\n",
        "# variáveis de área variables (em metro quadrado)\n",
        "hall = 11.25\n",
        "kit = 18.0\n",
        "liv = 20.0\n",
        "bed = 10.75\n",
        "bath = 9.50\n",
        "\n",
        "# informação sobre metragem da casa como lista de lista\n",
        "house = [[\"hallway\", hall],\n",
        "         [\"kitchen\", kit],\n",
        "         [\"living room\", liv],\n",
        "         [\"bedroom\", bed],\n",
        "         [\"bathroom\", bath]\n",
        "         ]\n",
        "\n",
        "# Print a variaável house\n",
        "\n",
        "print(house)\n",
        "\n",
        "# Print o tipo da variável house\n",
        "\n",
        "print(type(house))"
      ],
      "execution_count": 0,
      "outputs": []
    },
    {
      "metadata": {
        "id": "KFV_tz2hA3bq",
        "colab_type": "code",
        "colab": {}
      },
      "cell_type": "code",
      "source": [
        "# Exercício 11\n",
        "# Crie 01 lista Familia, que é composta por 04 listas: Pai, Mae, Filho, Filha.\n",
        "# Essas listas têm as variáveis Nome (str), Idade (int), Peso (float), Altura (float)\n",
        "#sexo (bool) True-feminino, False-Masculino\n",
        "Pai = [\"Joao\",56,83.2,1.72,False]\n",
        "Mae = [\"Maria\",48,65.1,1.63,True]\n",
        "Filho = [\"William\",26,81.1,1.5,False]\n",
        "Filha = [\"Tamara\",19,56.8,1.3,True]\n",
        "Familia = [Pai,Mae,Filho,Filha]\n",
        "print(Familia)"
      ],
      "execution_count": 0,
      "outputs": []
    },
    {
      "metadata": {
        "id": "EY1RU9xPA3bx",
        "colab_type": "text"
      },
      "cell_type": "markdown",
      "source": [
        "Acessado elementos de uma lista\n",
        "- list[n]  --> retorna a variável da posição n. O primeiro índice é o ZERO\n",
        "- list[n1:n2] --> retorna uma sub-lista da posição n1 até a posição n2-1\n",
        "- list[:n] --> retorna uma sub-lista da posição ZERO até n-1\n",
        "- list[n:] --> retorna uma sub-lista da posição n até o final da lista"
      ]
    },
    {
      "metadata": {
        "id": "oVNTJZqbA3bz",
        "colab_type": "code",
        "colab": {}
      },
      "cell_type": "code",
      "source": [
        "# Exemplos\n",
        "lista = [1,2,3,4,5,6]\n",
        "#lista[0]\n",
        "#lista[2]\n",
        "#lista[7]\n",
        "#lista[-1]\n",
        "#lista[-2]\n",
        "#lista[1:3]\n",
        "lista[:3]\n",
        "lista[:]"
      ],
      "execution_count": 0,
      "outputs": []
    },
    {
      "metadata": {
        "id": "wtYT9HLbA3b3",
        "colab_type": "code",
        "colab": {}
      },
      "cell_type": "code",
      "source": [
        "#Exercício 12\n",
        "\n",
        "# Create the areas list\n",
        "areas = [\"hallway\", 11.25, \"kitchen\", 18.0, \"living room\", 20.0, \"bedroom\", 10.75, \"bathroom\", 9.50]\n",
        "\n",
        "# Print o segundo elemento da lista\n",
        "print(areas[1])\n",
        "\n",
        "# Print o valor do último elemnto da lista\n",
        "print(areas[6])\n",
        "\n",
        "# Print o valor da área do living room\n",
        "print(areas[5])\n",
        "\n",
        "# Print o valor da área total da casa \n",
        "print(areas[1]+areas[3]+areas[5])"
      ],
      "execution_count": 0,
      "outputs": []
    },
    {
      "metadata": {
        "id": "rMzHx8aaA3cA",
        "colab_type": "code",
        "colab": {}
      },
      "cell_type": "code",
      "source": [
        "# Dica\n",
        "x = [[\"a\", \"b\", \"c\"],\n",
        "     [\"d\", \"e\", \"f\"],\n",
        "     [\"g\", \"h\", \"i\"]]\n",
        "print(x[2][0])\n",
        "print(x[2][:2])"
      ],
      "execution_count": 0,
      "outputs": []
    },
    {
      "metadata": {
        "id": "tmFrYUwJA3cI",
        "colab_type": "code",
        "colab": {}
      },
      "cell_type": "code",
      "source": [
        "#Exercício 13 - Homework1\n",
        "# Dado o Exercício 11.\n",
        "# Crie uma lista denominada de Nomes que contenha os nomes do Pai, Mae, Filho e Filha da lista Familia\n",
        "\n",
        "nomes = \n",
        "nomes"
      ],
      "execution_count": 0,
      "outputs": []
    },
    {
      "metadata": {
        "id": "6991DeusA3cL",
        "colab_type": "code",
        "colab": {}
      },
      "cell_type": "code",
      "source": [
        "#Exercício 14 - Homework2\n",
        "# Dado o Exercício 11.\n",
        "# Crie uma lista denominada de Filhos que contenha apenas as informações de Filho e Filha da lista Familia\n"
      ],
      "execution_count": 0,
      "outputs": []
    },
    {
      "metadata": {
        "id": "6ec4Qi62A3cT",
        "colab_type": "code",
        "colab": {}
      },
      "cell_type": "code",
      "source": [
        "#Exercício 15 - Homework3\n",
        "# Dado o Exercício 11.\n",
        "# Calcule o peso médio do pesos das pessoas da lista Familia. \n",
        "# Armazene o resultado na variável peso_medio\n",
        "????\n",
        "print(peso_medio)"
      ],
      "execution_count": 0,
      "outputs": []
    },
    {
      "metadata": {
        "id": "X7OziV_nA3cX",
        "colab_type": "text"
      },
      "cell_type": "markdown",
      "source": [
        "Modificar elementos de uma lista\n",
        "- lista[elemento] = novo_valor\n",
        "\n",
        "Incluir elementos em lista\n",
        "- lista3 = lista1 + lista3\n",
        "\n",
        "Remover Elementos em Lista\n",
        "- del(lista[elemento])"
      ]
    },
    {
      "metadata": {
        "id": "I1GVOn5nA3cY",
        "colab_type": "code",
        "colab": {}
      },
      "cell_type": "code",
      "source": [
        "# Exercício 16 - Homework\n",
        "# Dado o Exercício 11\n",
        "# Inclua mais uma filho, denominado Filho2 na lista Familia\n",
        "\n",
        "print(Familia)"
      ],
      "execution_count": 0,
      "outputs": []
    },
    {
      "metadata": {
        "id": "LNirPDxnA3cc",
        "colab_type": "code",
        "colab": {}
      },
      "cell_type": "code",
      "source": [
        "# Exercício 17 - Homework\n",
        "# Dado o Exercício 11\n",
        "# Remova Filho da lista Familia\n",
        "# O que ocorre com os índices da lista Familia?\n",
        "\n",
        "print(Familia)"
      ],
      "execution_count": 0,
      "outputs": []
    },
    {
      "metadata": {
        "id": "R8I4YjcyA3cg",
        "colab_type": "code",
        "colab": {}
      },
      "cell_type": "code",
      "source": [
        "# Exercício 18\n",
        "# Remova pela ordem a string \"poolhouse\" e o valor de sua área\n",
        "areas = [\"hallway\", 11.25, \"kitchen\", 18.0,\n",
        "        \"chill zone\", 20.0, \"bedroom\", 10.75,\n",
        "         \"bathroom\", 10.50, \"poolhouse\", 24.5,\n",
        "         \"garage\", 15.45]\n",
        "del(areas[10:12])\n",
        "#del(areas[10])\n",
        "print(areas)"
      ],
      "execution_count": 0,
      "outputs": []
    },
    {
      "metadata": {
        "id": "Vqx0-2k-A3cn",
        "colab_type": "code",
        "colab": {}
      },
      "cell_type": "code",
      "source": [
        "# Cópia de lista: diferença entre atribuição e cópia de listas\n",
        "# Criação de lista\n",
        "lista1 = [11.25, 18.0, 20.0, 10.75, 9.50]\n",
        "\n",
        "# Atribuição e copia de listas\n",
        "#lista2 = lista1\n",
        "lista2 = list(lista1)\n",
        "#lista2 = lista1[:]\n",
        "\n",
        "# Modificação na lista\n",
        "lista2[0] = 5.0\n",
        "\n",
        "# Print lista1\n",
        "print(lista1)"
      ],
      "execution_count": 0,
      "outputs": []
    },
    {
      "metadata": {
        "id": "YCto6UB0A3cw",
        "colab_type": "text"
      },
      "cell_type": "markdown",
      "source": [
        "Função em Python\n",
        "- Há diversas funções úteis já disponíveis em Python\n",
        "    - type(variavel)\n",
        "    - print(variavel)\n",
        "    - str(variavel); float(variavel); ...\n",
        "    - max(variavel)\n",
        "    - min(variavel)\n",
        "    - mean(variavel)\n",
        "    - round(valor,precisao), round(valor)\n",
        "    - complex(valor)\n",
        "    - sorted(iterable, key, reverse)\n",
        "    - help(funcao)"
      ]
    },
    {
      "metadata": {
        "id": "bOMtvZEQA3cx",
        "colab_type": "code",
        "colab": {}
      },
      "cell_type": "code",
      "source": [
        "# Exemplos\n",
        "# Criar variáveis var1 e var2\n",
        "var1 = [1, 2, 3, 4]\n",
        "var2 = True\n",
        "\n",
        "# Print tipo (type) de var1\n",
        "print(type(var1))\n",
        "\n",
        "# Print o tamanho de var1\n",
        "print(len(var1))\n",
        "\n",
        "# Converter var2 paar um inteiro: out2\n",
        "out2 = int(var2)"
      ],
      "execution_count": 0,
      "outputs": []
    },
    {
      "metadata": {
        "id": "deJxcJa9A3c3",
        "colab_type": "code",
        "colab": {}
      },
      "cell_type": "code",
      "source": [
        "help(max)"
      ],
      "execution_count": 0,
      "outputs": []
    },
    {
      "metadata": {
        "id": "LsYG-E4DA3c9",
        "colab_type": "code",
        "colab": {}
      },
      "cell_type": "code",
      "source": [
        "?max"
      ],
      "execution_count": 0,
      "outputs": []
    },
    {
      "metadata": {
        "id": "3V_iGEk3A3c_",
        "colab_type": "code",
        "colab": {}
      },
      "cell_type": "code",
      "source": [
        "# Teste essas opções e conclua com funciona o número complexo\n",
        "complex()\n",
        "complex(1)\n",
        "complex(1,2)"
      ],
      "execution_count": 0,
      "outputs": []
    },
    {
      "metadata": {
        "id": "fmFFKsq9A3dK",
        "colab_type": "code",
        "colab": {}
      },
      "cell_type": "code",
      "source": [
        "# Execute o comando help()\n",
        "help(sorted)"
      ],
      "execution_count": 0,
      "outputs": []
    },
    {
      "metadata": {
        "id": "o0DOAko_A3dQ",
        "colab_type": "code",
        "colab": {}
      },
      "cell_type": "code",
      "source": [
        "# Exemplo\n",
        "# Criar duas listas:first e second\n",
        "first = [11.25, 18.0, 20.0]\n",
        "second = [10.75, 9.50]\n",
        "\n",
        "# Unir as duas listas na lista full\n",
        "full = first + second\n",
        "\n",
        "# Ordenar a lista full em ordem decrscente e armazenar o resultado na lista full_sorted\n",
        "#full_sorted = sorted(full, reverse = True)\n",
        "full_sorted = sorted(full)\n",
        "\n",
        "# Print a lista full_sorted\n",
        "print(full_sorted)\n",
        "\n",
        "# Investigue se não se utilizar o parâmetro reserve\n",
        "\n",
        "# Qual é a utilidade do parâmetro key?"
      ],
      "execution_count": 0,
      "outputs": []
    },
    {
      "metadata": {
        "id": "2kI04uixA3dY",
        "colab_type": "text"
      },
      "cell_type": "markdown",
      "source": [
        "Em Python, todos os tipos de variáveis são classe.\n",
        "- As variáveis são objetos de classes específicas\n",
        "\n",
        "Assim, todas as variáveis possuem métodos específicos.\n",
        "- Os métodos são funções pertencentes a objetos\n",
        "\n",
        "Para acessar métodos, devemos utilizar a seguinte sintase:\n",
        "- variavel.metodo(parametros)"
      ]
    },
    {
      "metadata": {
        "id": "-KA3uHnKA3dZ",
        "colab_type": "text"
      },
      "cell_type": "markdown",
      "source": [
        "Métodos da classe String\n",
        "\n",
        "- As strings possuem com um monte de métodos específicos.\n",
        "- Para verificar mais detalhadamente, você sempre pode digitar help (str) no IPython Shell."
      ]
    },
    {
      "metadata": {
        "id": "he-PMjYtA3da",
        "colab_type": "code",
        "colab": {}
      },
      "cell_type": "code",
      "source": [
        "# Exemplo\n",
        "# string room\n",
        "room = \"poolhouse\"\n",
        "\n",
        "# Use o método upper() sobre a string room. Armazene a resposta em room_up\n",
        "room_up = room.upper()\n",
        "\n",
        "# Print as strings room e room_up\n",
        "print(room)\n",
        "print(room_up)\n",
        "\n",
        "# Print o número de ocorrência da letra \"o\" na string room\n",
        "print(room.count(\"o\"))"
      ],
      "execution_count": 0,
      "outputs": []
    },
    {
      "metadata": {
        "id": "Rv7PRgfPA3dd",
        "colab_type": "code",
        "colab": {}
      },
      "cell_type": "code",
      "source": [
        "Alguns métodos de Listas\n",
        "- lista.index(parametro)\n",
        "- lista(count(parametro))\n",
        "- append()\n",
        "- remove(), remove o primeiro elemento da lista que casa com o parâmetro\n",
        "- reversed(), reverte a ordem dos elementos\n"
      ],
      "execution_count": 0,
      "outputs": []
    },
    {
      "metadata": {
        "id": "NxM1GZhjA3du",
        "colab_type": "code",
        "colab": {}
      },
      "cell_type": "code",
      "source": [
        "frase = \"socorram me subi no onibus em marrocos\"\n",
        "print(frase[::-1])\n",
        "frase1 = \"o po de cocaina mata maniaco cedo po\"\n",
        "print(frase1[::-1])"
      ],
      "execution_count": 0,
      "outputs": []
    },
    {
      "metadata": {
        "id": "yGTPN77-A3dy",
        "colab_type": "code",
        "colab": {}
      },
      "cell_type": "code",
      "source": [
        "# Criar a lista areas\n",
        "areas = [11.25, 18.0, 20.0, 10.75, 9.50]\n",
        "\n",
        "# Print o índice do elemento 20.0 na lista\n",
        "print(areas.index(20.0))\n",
        "\n",
        "# Print a quantidade de vezes que 14.5 apareace em areas\n",
        "\n",
        "print(areas.count(14.5))"
      ],
      "execution_count": 0,
      "outputs": []
    },
    {
      "metadata": {
        "id": "pjcvuKZCA3d3",
        "colab_type": "code",
        "colab": {}
      },
      "cell_type": "code",
      "source": [
        "# Exercício 19 Homework\n",
        "#Criar a lista areas\n",
        "areas = [11.25, 18.0, 20.0, 10.75, 9.50]\n",
        "\n",
        "# Use o método append duas vezes para incluir os valores 24.5 e 15.45 no final da lista areas\n",
        "\n",
        "???????\n",
        "\n",
        "# Print a lista areas\n",
        "?????\n",
        "\n",
        "# Invera a ordem dos elementos na lista areas via o método reserve\n",
        "?????\n",
        "\n",
        "# Print a lista areas\n",
        "print(areas)"
      ],
      "execution_count": 0,
      "outputs": []
    },
    {
      "metadata": {
        "id": "EZ8E4kFBA3d7",
        "colab_type": "text"
      },
      "cell_type": "markdown",
      "source": [
        "Módulos em Python\n",
        "- Modulos agrupam funções, métodos e tipos específicos\n",
        "\n",
        "Pacotes são implementações Módulos disponíveis em Python \n",
        "- Há centenas de pacotes disponíveis em Python.\n",
        "\n",
        "Importação de Pacotes em Python (importa todo o pacote)\n",
        "- import pacote_desejado\n",
        "- import math\n",
        "\n",
        "Para usar funções do pacotes:\n",
        "- pacote_desejado.metodo_desejado(parametros)\n",
        "- pacote_desejado.variavel_desejada\n",
        "- math.pi\n",
        "\n",
        "Para importar apenas um módulo específico de um pacote, utilizamos:\n",
        "- from pacote_desejado import modulo_desejado\n",
        "\n",
        "Exemplo: importa só o pacote sqrt do pacote math\n",
        "\n",
        "- from math import sqrt    \n",
        "- print(sqrt(25))\n",
        "\n",
        "Ao utilizar \"from package import item\", o item pode ser um subpacote, submódulo, classe, função ou variável."
      ]
    },
    {
      "metadata": {
        "id": "-bmi9WpHA3d7",
        "colab_type": "code",
        "colab": {}
      },
      "cell_type": "code",
      "source": [
        "# Exemplo\n",
        "# Importar pacote math \n",
        "import math\n",
        "\n",
        "# Definição de raio\n",
        "r = 0.43\n",
        "\n",
        "\n",
        "# Cálculo de C\n",
        "C = 2 * r * math.pi\n",
        "\n",
        "# Cálculo de A\n",
        "A = math.pi * r ** 2\n",
        "\n",
        "# print valores da Circunferência e Área\n",
        "print(\"Circunferência: \" + str(C))\n",
        "print(\"Área: \" + str(A))"
      ],
      "execution_count": 0,
      "outputs": []
    },
    {
      "metadata": {
        "id": "1H9fquUlA3eN",
        "colab_type": "code",
        "colab": {}
      },
      "cell_type": "code",
      "source": [
        "dir(math)"
      ],
      "execution_count": 0,
      "outputs": []
    },
    {
      "metadata": {
        "id": "z5Uc4GY2A3eT",
        "colab_type": "code",
        "colab": {}
      },
      "cell_type": "code",
      "source": [
        "# Exemplo\n",
        "# Definição do raio\n",
        "r = 192500\n",
        "\n",
        "# Importar apenas a função radians do pacote math\n",
        "from math import radians \n",
        "\n",
        "# Calcular o arco correspondente a 12 graus.\n",
        "\n",
        "arco = r* radians(12)\n",
        "\n",
        "# Print o valor de arco\n",
        "print(arco)"
      ],
      "execution_count": 0,
      "outputs": []
    },
    {
      "metadata": {
        "id": "i_aIBQgeA3eX",
        "colab_type": "code",
        "colab": {}
      },
      "cell_type": "code",
      "source": [
        "# Exemplo\n",
        "# Definição do raio\n",
        "r = 192500\n",
        "\n",
        "# Importar apenas a função radians do pacote math, redefinindo o nome da função\n",
        "from math import radians as mariana\n",
        "\n",
        "# Calcular o arco correspondente a 12 graus.\n",
        "\n",
        "arco = r* mariana(12)\n",
        "\n",
        "# Print o valor de arco\n",
        "print(arco)"
      ],
      "execution_count": 0,
      "outputs": []
    },
    {
      "metadata": {
        "id": "HqB6X1NHA3ea",
        "colab_type": "text"
      },
      "cell_type": "markdown",
      "source": [
        "Alguns exemplos de funções matemáticas:\n",
        "- import math\n"
      ]
    },
    {
      "metadata": {
        "id": "-daQYuMcA3ea",
        "colab_type": "code",
        "colab": {}
      },
      "cell_type": "code",
      "source": [
        "#Exemplos de Uso\n",
        "import math\n",
        "print(math.exp(1.0))\n",
        "print(math.pi)\n",
        "print(math.e)\n",
        "print(math.cos( math.pi))\n",
        "teta = 0.7\n",
        "y = math.sin(teta) ** 2 + math.cos(teta) ** 2\n",
        "print(y)"
      ],
      "execution_count": 0,
      "outputs": []
    },
    {
      "metadata": {
        "id": "GiEFHoTxA3eg",
        "colab_type": "text"
      },
      "cell_type": "markdown",
      "source": [
        "Comando de Controle de Fluxo\n",
        "- If\n",
        "\n",
        "    if (condição_lógica):\n",
        "         comando_1\n",
        "         comando_2\n",
        "         ...\n",
        "         comando_n\n",
        "         \n"
      ]
    },
    {
      "metadata": {
        "id": "C2oSRjUIA3eh",
        "colab_type": "text"
      },
      "cell_type": "markdown",
      "source": [
        "- If-then-Else\n",
        "\n",
        "    if (condição_lógica):\n",
        "         comando_1\n",
        "         comando_2\n",
        "         ...\n",
        "         comando_n\n",
        "     else:\n",
        "         comando_k1\n",
        "         comando_k2\n",
        "         ...\n",
        "         comando_kn"
      ]
    },
    {
      "metadata": {
        "id": "Kf5fGeGcA3ei",
        "colab_type": "text"
      },
      "cell_type": "markdown",
      "source": [
        "Descubra o erro do programa abaixo"
      ]
    },
    {
      "metadata": {
        "id": "hSr1pSpWA3ej",
        "colab_type": "code",
        "colab": {}
      },
      "cell_type": "code",
      "source": [
        "# Exemplo de uso do comando if\n",
        "\n",
        "a = 34\n",
        "if a > 0:\n",
        "print (\"a is positive \")"
      ],
      "execution_count": 0,
      "outputs": []
    },
    {
      "metadata": {
        "id": "GPrCVYVaA3e1",
        "colab_type": "code",
        "colab": {}
      },
      "cell_type": "code",
      "source": [
        "# Exemplo de uso do comando if\n",
        "a = 34\n",
        "if a > 0:\n",
        " print (\"a é positivo \")\n",
        "print(\"Identação é FUNDAMENTAL em Python\")"
      ],
      "execution_count": 0,
      "outputs": []
    },
    {
      "metadata": {
        "id": "1PFvFPP3A3fA",
        "colab_type": "code",
        "colab": {}
      },
      "cell_type": "code",
      "source": [
        "# Exemplo de uso do comando if-else\n",
        "a = 34\n",
        "if a > 0:\n",
        "  print (\"O valor de a é positivo\")\n",
        "else :\n",
        "  print (\"O valor de a não é positivo\")\n"
      ],
      "execution_count": 0,
      "outputs": []
    },
    {
      "metadata": {
        "id": "sWI4ed40A3fK",
        "colab_type": "code",
        "colab": {}
      },
      "cell_type": "code",
      "source": [
        "# Exemplo de uso do comando if-elif-else\n",
        "a = 17\n",
        "if a == 0:\n",
        " print (\"a is zero \")\n",
        "elif a < 0:\n",
        " print (\"a is negative \")\n",
        "else :\n",
        " print (\"a is positive \")"
      ],
      "execution_count": 0,
      "outputs": []
    },
    {
      "metadata": {
        "id": "qMecz6X8A3fR",
        "colab_type": "text"
      },
      "cell_type": "markdown",
      "source": [
        "Comando de repetição (loops)\n",
        "- Comando for\n",
        "\n",
        "    for (variavel) in (sequencia):\n",
        "       comando_1\n",
        "       comando_2\n",
        "       ...\n",
        "       comando_n\n",
        "- Comando while\n",
        "    \n",
        "    while (condicao):\n",
        "       comando_1\n",
        "       comando_2\n",
        "       ...\n",
        "       comando_n"
      ]
    },
    {
      "metadata": {
        "id": "8tnTqDl1A3fT",
        "colab_type": "code",
        "colab": {}
      },
      "cell_type": "code",
      "source": [
        "# Exemplos de uso do comando for\n",
        "print(\"Primeiro print\")\n",
        "for i in range(2,5):\n",
        "    print(i)\n",
        "print(\"Segundo print\")\n",
        "for i in range(5):\n",
        "    print(i)\n",
        "print(\"Terceiro print\")\n",
        "lista = [\"p\", \"y\", \"t\", \"h\", \"o\", \"n\"]\n",
        "for item in lista:\n",
        "    print (item)"
      ],
      "execution_count": 0,
      "outputs": []
    },
    {
      "metadata": {
        "id": "8Ob9e_f3A3fZ",
        "colab_type": "code",
        "colab": {}
      },
      "cell_type": "code",
      "source": [
        "# Exemplo de uso do comando for\n",
        "for x in [1,2,3]:\n",
        " print(x)"
      ],
      "execution_count": 0,
      "outputs": []
    },
    {
      "metadata": {
        "id": "uD3C62tTA3fy",
        "colab_type": "code",
        "colab": {}
      },
      "cell_type": "code",
      "source": [
        "# Exemplo de uso do comando for\n",
        "print(\"Uso do enumerate para se obter índice numérico\")\n",
        "for indice, valor in enumerate([\"p\", \"y\", \"t\", \"h\", \"o\", \"n\"]):\n",
        "    print (indice, valor)"
      ],
      "execution_count": 0,
      "outputs": []
    },
    {
      "metadata": {
        "id": "_AQfMDmvA3f2",
        "colab_type": "code",
        "colab": {}
      },
      "cell_type": "code",
      "source": [
        "#Exemplo - É possível implementar do comando \"for\" via lista\n",
        "lista1 = [x**2 for x in range(0,5)]\n",
        "print(lista1)"
      ],
      "execution_count": 0,
      "outputs": []
    },
    {
      "metadata": {
        "id": "WlnVKH82A3f7",
        "colab_type": "code",
        "colab": {}
      },
      "cell_type": "code",
      "source": [
        "#Exemplo - É possível implementar do comando \"for\" via lista\n",
        "lista2 = [True, \"2\", 3.0, 4]\n",
        "[type(item) for item in lista2]"
      ],
      "execution_count": 0,
      "outputs": []
    },
    {
      "metadata": {
        "id": "OeL2A4HdA3f9",
        "colab_type": "code",
        "colab": {}
      },
      "cell_type": "code",
      "source": [
        "# Exemplo de uso do comando while\n",
        "count = 0\n",
        "while count <= 5:\n",
        "    print(count)\n",
        "    count += 1"
      ],
      "execution_count": 0,
      "outputs": []
    },
    {
      "metadata": {
        "id": "Zjjm3RuWA3f_",
        "colab_type": "code",
        "colab": {}
      },
      "cell_type": "code",
      "source": [
        "# Exemplo de uso do comando while com break\n",
        "count = 0\n",
        "while count <= 5:\n",
        "    print(count)\n",
        "    count += 1\n",
        "    if count > 3: break"
      ],
      "execution_count": 0,
      "outputs": []
    },
    {
      "metadata": {
        "id": "2AJhm9BAA3gB",
        "colab_type": "code",
        "colab": {}
      },
      "cell_type": "code",
      "source": [
        "# Comando else no final de um loop é executado após o término do loop\n",
        "#\n",
        "# Loop while\n",
        "#\n",
        "count = 0\n",
        "while count <= 5:\n",
        "    print(count)\n",
        "    count += 1\n",
        "    if(count == 3):break\n",
        "else:\n",
        "    print('após iteração')\n",
        "\n",
        "#\n",
        "# Loop for\n",
        "#\n",
        "for i in range(5):\n",
        "    print(i)\n",
        "else:\n",
        "    print('após iteração')\n"
      ],
      "execution_count": 0,
      "outputs": []
    },
    {
      "metadata": {
        "id": "0wlftC99A3gL",
        "colab_type": "text"
      },
      "cell_type": "markdown",
      "source": [
        "Definição de Função em Python\n",
        "    \n",
        "    def funcao(lista_parametros):\n",
        "       comando_1\n",
        "       comando_2\n",
        "       ...\n",
        "       comando_n\n",
        "       return(variavel_de_saida)"
      ]
    },
    {
      "metadata": {
        "id": "Oh35cmUNA3gL",
        "colab_type": "code",
        "colab": {}
      },
      "cell_type": "code",
      "source": [
        "def hello(meu_nome):\n",
        "  print('Olá,',meu_nome, \".\")"
      ],
      "execution_count": 0,
      "outputs": []
    },
    {
      "metadata": {
        "id": "aqq9IVitA3gP",
        "colab_type": "code",
        "colab": {},
        "outputId": "ea59b5ee-ff30-4d2f-c0a0-364372848f4d"
      },
      "cell_type": "code",
      "source": [
        "hello(\"John Snow. You now nothing!\")"
      ],
      "execution_count": 0,
      "outputs": [
        {
          "output_type": "stream",
          "text": [
            "Olá, John Snow. You now nothing! .\n"
          ],
          "name": "stdout"
        }
      ]
    },
    {
      "metadata": {
        "id": "ALE2C-IMA3gV",
        "colab_type": "code",
        "colab": {}
      },
      "cell_type": "code",
      "source": [
        "def hello(meu_nome,idade):\n",
        "  print('Olá, ',meu_nome,'\\nSua idade é:',idade)"
      ],
      "execution_count": 0,
      "outputs": []
    },
    {
      "metadata": {
        "id": "OXYSUtZ1A3gY",
        "colab_type": "code",
        "colab": {}
      },
      "cell_type": "code",
      "source": [
        "hello(\"João da Silva\", 21)"
      ],
      "execution_count": 0,
      "outputs": []
    },
    {
      "metadata": {
        "id": "ZUIeX-XiA3gZ",
        "colab_type": "code",
        "colab": {}
      },
      "cell_type": "code",
      "source": [
        "def calcular_pagamento(qtd_horas, valor_hora):\n",
        "    horas = float(qtd_horas)\n",
        "    taxa = float(valor_hora)\n",
        "    if horas <= 40:\n",
        "        salario=horas*taxa\n",
        "    else:\n",
        "        h_excd = horas - 40\n",
        "        salario = 40*taxa+(h_excd*(1.5*taxa))\n",
        "    return (salario)"
      ],
      "execution_count": 0,
      "outputs": []
    },
    {
      "metadata": {
        "id": "hyfXeC7dA3gf",
        "colab_type": "code",
        "colab": {}
      },
      "cell_type": "code",
      "source": [
        "# Exemplo de função com valor de retorno\n",
        "def calcular_pagamento(horas, taxa):\n",
        " salario=float(horas)*float(taxa)\n",
        " return (salario)"
      ],
      "execution_count": 0,
      "outputs": []
    },
    {
      "metadata": {
        "id": "A4lh42nhA3gh",
        "colab_type": "code",
        "colab": {}
      },
      "cell_type": "code",
      "source": [
        "total_salario = calcular_pagamento(40,20)\n",
        "print('O valor de seus rendimentos é R$',total_salario)"
      ],
      "execution_count": 0,
      "outputs": []
    },
    {
      "metadata": {
        "id": "nFKdDnCpA3gl",
        "colab_type": "code",
        "colab": {}
      },
      "cell_type": "code",
      "source": [
        "str_horas= input('Digite as horas: ')\n",
        "str_taxa=input('Digite a taxa: ')"
      ],
      "execution_count": 0,
      "outputs": []
    },
    {
      "metadata": {
        "id": "pFo_781LA3go",
        "colab_type": "code",
        "colab": {}
      },
      "cell_type": "code",
      "source": [
        "print(str_horas)\n",
        "print(str_taxa)\n",
        "float_horas = float(str_horas)\n",
        "float_taxa = float(str_taxa)"
      ],
      "execution_count": 0,
      "outputs": []
    },
    {
      "metadata": {
        "id": "zOcTmn2GA3gp",
        "colab_type": "code",
        "colab": {}
      },
      "cell_type": "code",
      "source": [
        "print(float_horas)\n",
        "print(float_taxa)\n",
        "total_salario = calcular_pagamento(float_horas,float_taxa)\n",
        "print('O valor de seus rendimentos é R$',total_salario)"
      ],
      "execution_count": 0,
      "outputs": []
    },
    {
      "metadata": {
        "id": "fqAgALPFA3gs",
        "colab_type": "code",
        "colab": {}
      },
      "cell_type": "code",
      "source": [
        "# Exemplo de função - retorno mais de uma variável\n",
        "print(\"Programa com exemplo para função que retorna mais de uma variável.\")\n",
        "def powers(x):\n",
        " #Retorna o quadrado, o cubo e a quarta potência de um dado número x.\"\"\"\n",
        " return x ** 2, x ** 3, x ** 4\n",
        "print(powers(2))\n",
        "x2, x3, x4 = powers(3)\n",
        "print(\"x2=\",x2,\" x3=\",x3,\"x4=\", x4)"
      ],
      "execution_count": 0,
      "outputs": []
    },
    {
      "metadata": {
        "id": "somwGKbUA3gx",
        "colab_type": "text"
      },
      "cell_type": "markdown",
      "source": [
        "Na definição de uma função, podemos dar defaults nos argumentos da função"
      ]
    },
    {
      "metadata": {
        "id": "kBPM847PA3g0",
        "colab_type": "code",
        "colab": {},
        "outputId": "42bd3f6e-1ec5-4281-d62b-26b4284ac9d0"
      },
      "cell_type": "code",
      "source": [
        "# Exemplo de função - Valores Default em funçã\n",
        "\n",
        "print(\"Exemplo de uso de função com parámetros 'default'\")\n",
        "\n",
        "def myfunc(x, p=2, debug=False):\n",
        "  if debug:\n",
        "   print(\"Mensagem do módulo debug da função myfunc para x = \" + str(x) + \" elevado \" + str(p))\n",
        "  return x**p\n",
        "\n",
        "print(myfunc(5))\n",
        "print(myfunc(5, debug=True))\n",
        "print(myfunc(p=3, debug=True, x=5))\n",
        "print(myfunc(5, 3))\n",
        "print(myfunc(5, 3, True))\n",
        "print(myfunc(5, 3, False))"
      ],
      "execution_count": 0,
      "outputs": [
        {
          "output_type": "stream",
          "text": [
            "Exemplo de uso de função com parámetros 'default'\n",
            "25\n",
            "Mensagem do módulo debug da função myfunc para x = 5 elevado 2\n",
            "25\n",
            "Mensagem do módulo debug da função myfunc para x = 5 elevado 3\n",
            "125\n",
            "125\n",
            "Mensagem do módulo debug da função myfunc para x = 5 elevado 3\n",
            "125\n",
            "125\n"
          ],
          "name": "stdout"
        }
      ]
    },
    {
      "metadata": {
        "id": "k2TxIhcOA3g6",
        "colab_type": "text"
      },
      "cell_type": "markdown",
      "source": [
        "Em Python, também podemos criar funções sem nome, usando a palavra-chave lambda:\n",
        "\n",
        "- nome_da_funcao  = lambda <parametro>: comandos"
      ]
    },
    {
      "metadata": {
        "id": "lPUHdMJWA3g7",
        "colab_type": "code",
        "colab": {}
      },
      "cell_type": "code",
      "source": [
        "# Exemplo de uso de função sem nome - Lambda Function\n",
        "# f1 e f2 são equivalentes\n",
        "\n",
        "f1 = lambda x: x**2\n",
        "\n",
        "\n",
        "def f2(x):\n",
        " return x**2"
      ],
      "execution_count": 0,
      "outputs": []
    },
    {
      "metadata": {
        "id": "6E11yEEiA3hB",
        "colab_type": "code",
        "colab": {},
        "outputId": "79cf8ac4-4111-4bfd-b1a8-6e5740ea70f2"
      },
      "cell_type": "code",
      "source": [
        "f1(2), f2(2)"
      ],
      "execution_count": 0,
      "outputs": [
        {
          "output_type": "execute_result",
          "data": {
            "text/plain": [
              "(4, 4)"
            ]
          },
          "metadata": {
            "tags": []
          },
          "execution_count": 7
        }
      ]
    },
    {
      "metadata": {
        "id": "0ZqcVrw_A3hI",
        "colab_type": "text"
      },
      "cell_type": "markdown",
      "source": [
        "Esta técnica é útil, por exemplo, quando queremos passar uma única função como um argumento para outra Função.\n",
        "\n",
        "Considere a função map(f, s), que aplica a função f para todos os elementos da sequência s. "
      ]
    },
    {
      "metadata": {
        "id": "bGXeTg2GA3hI",
        "colab_type": "code",
        "colab": {},
        "outputId": "ec890016-4694-440c-98f7-6e7cf1a4dca1"
      },
      "cell_type": "code",
      "source": [
        "# Exemplo de uso da função map(),que retorna um objeto genérico\n",
        "def f(x):\n",
        "    return (x ** 2)\n",
        "lista2 = map(f, range (-3,4))\n",
        "list(lista2)"
      ],
      "execution_count": 0,
      "outputs": [
        {
          "output_type": "execute_result",
          "data": {
            "text/plain": [
              "[9, 4, 1, 0, 1, 4, 9]"
            ]
          },
          "metadata": {
            "tags": []
          },
          "execution_count": 8
        }
      ]
    },
    {
      "metadata": {
        "id": "EOIAKFqIA3hL",
        "colab_type": "code",
        "colab": {},
        "outputId": "7fe5f1b8-8c88-4168-966f-d78c0907c6e1"
      },
      "cell_type": "code",
      "source": [
        "# Exemplo de uso da função map() com função anônima - lambda\n",
        "lista3 = map(lambda x: x**2, range(-3,4))\n",
        "list(lista3)"
      ],
      "execution_count": 0,
      "outputs": [
        {
          "output_type": "execute_result",
          "data": {
            "text/plain": [
              "[9, 4, 1, 0, 1, 4, 9]"
            ]
          },
          "metadata": {
            "tags": []
          },
          "execution_count": 9
        }
      ]
    },
    {
      "metadata": {
        "id": "Je9Vh0BPA3hP",
        "colab_type": "text"
      },
      "cell_type": "markdown",
      "source": [
        "Uso de Classes e Objetos:\n",
        "\n",
        "- As classes são as principais características da programação orientada a objetos. \n",
        "- Uma classe é uma estrutura para representar um objeto e as operações que podem ser realizadas sobre ele. Assim, uma classe pode conter atributos (variáveis) e métodos (funções).\n",
        "- Uma classe é definida quase como uma função, mas usando a palavra-chave  \"classe\".\n",
        "- A definição da classe geralmente contém uma série de método de classe (uma função em uma classe).\n",
        "- Cada método de classe deve ter um argumento denominado de \"self\" como primeiro argumento. Isto é uma auto-referência ao objeto.\n",
        "- Alguns nomes de métodos de classe têm um significado especial, por exemplo:\n",
        "    - _init_: construtor da classe - O nome do método que é invocado quando o primeiro objeto é criado.\n",
        "    - _str_: Um método que é invocado quando uma representação de uma string da classe é necessária, como, por exemplo, quando deseja-se usar um print()."
      ]
    },
    {
      "metadata": {
        "id": "GzXhOjFEA3hP",
        "colab_type": "code",
        "colab": {}
      },
      "cell_type": "code",
      "source": [
        "# Criação da Classe Ponto\n",
        "class Ponto:  \n",
        " def __init__(self, x, y):\n",
        "  self.x = x\n",
        "  self.y = y\n",
        " \n",
        " def translacao(self, dx, dy):\n",
        "  self.x += dx\n",
        "  self.y += dy\n",
        "    \n",
        " def __str__(self):\n",
        "  return(\"O ponto está no posição [%f, %f]\" % (self.x, self.y))"
      ],
      "execution_count": 0,
      "outputs": []
    },
    {
      "metadata": {
        "id": "pgXEiPkaA3hS",
        "colab_type": "code",
        "colab": {},
        "outputId": "577058a8-f197-4b94-9f34-f4f4f41aa4c2"
      },
      "cell_type": "code",
      "source": [
        "# Criação de um objeto p1 da classe Ponto \n",
        "p1 = Ponto(0, 0) \n",
        "print(p1)"
      ],
      "execution_count": 0,
      "outputs": [
        {
          "output_type": "stream",
          "text": [
            "O ponto está no posição [0.000000, 0.000000]\n"
          ],
          "name": "stdout"
        }
      ]
    },
    {
      "metadata": {
        "id": "b0dJcngmA3hW",
        "colab_type": "code",
        "colab": {},
        "outputId": "ce34247c-1e05-4ed3-f05c-7e35b4b7c405"
      },
      "cell_type": "code",
      "source": [
        "p2 = Ponto(1, 1)\n",
        "p1.translacao(0.25, 1.5)\n",
        "print(p1)\n",
        "print(p2)\n",
        "print(p1.x, p1.y)\n",
        "print(p2.x, p2.y)"
      ],
      "execution_count": 0,
      "outputs": [
        {
          "output_type": "stream",
          "text": [
            "O ponto está no posição [0.250000, 1.500000]\n",
            "O ponto está no posição [1.000000, 1.000000]\n",
            "0.25 1.5\n",
            "1 1\n"
          ],
          "name": "stdout"
        }
      ]
    },
    {
      "metadata": {
        "id": "5wElMEYkA3hZ",
        "colab_type": "code",
        "colab": {}
      },
      "cell_type": "code",
      "source": [
        "# Exercício - inclua os seguintes métodos na Classe Ponto\n",
        "# rotacao(angula_em_radiano), sem retorno\n",
        "# distancia(Ponto ponto1), retorna a distância do ponto dado (parâmetro) ao ponto\n",
        "\n"
      ],
      "execution_count": 0,
      "outputs": []
    },
    {
      "metadata": {
        "id": "G81UlXu7A3hb",
        "colab_type": "text"
      },
      "cell_type": "markdown",
      "source": [
        "### Tipo de Dado Dicionário em Python\n",
        "\n",
        "- Dicionário é um tipo de coleção, como lista, porém poderem usar qualquer tipo imutavel de dados como indice.Isto é feito a partir de uma chave, que pode ser qualquer tipo imutável, para um valor, que pode ser qualquer objeto de dados do Python.\n",
        "- Uma maneira de criar um dicionario é comecando com um dicionário vazio e depois adiconar elementos. Um dicionário vazio é denotado assim {}:"
      ]
    },
    {
      "metadata": {
        "id": "IGpDdkCsA3hc",
        "colab_type": "code",
        "colab": {},
        "outputId": "4aaa590a-e69e-45bc-9b39-e3aa77e660aa"
      },
      "cell_type": "code",
      "source": [
        "# Exemplo: dicionário de Portugues para Ingles\n",
        "\n",
        "por_Para_ing = {}    # início do dicionário\n",
        "por_Para_ing['um'] = 'one'\n",
        "por_Para_ing['dois'] = 'two'\n",
        "por_Para_ing"
      ],
      "execution_count": 0,
      "outputs": [
        {
          "output_type": "execute_result",
          "data": {
            "text/plain": [
              "{'dois': 'two', 'um': 'one'}"
            ]
          },
          "metadata": {
            "tags": []
          },
          "execution_count": 30
        }
      ]
    },
    {
      "metadata": {
        "id": "m8J7pBVFA3he",
        "colab_type": "code",
        "colab": {},
        "outputId": "28db380d-7295-4e42-c425-616208c4e37c"
      },
      "cell_type": "code",
      "source": [
        "por_Para_ing['um']"
      ],
      "execution_count": 0,
      "outputs": [
        {
          "output_type": "execute_result",
          "data": {
            "text/plain": [
              "'one'"
            ]
          },
          "metadata": {
            "tags": []
          },
          "execution_count": 31
        }
      ]
    },
    {
      "metadata": {
        "id": "jzNY876zA3hi",
        "colab_type": "code",
        "colab": {},
        "outputId": "20c0c32a-1b6b-461f-cd59-f85066a38946"
      },
      "cell_type": "code",
      "source": [
        "por_Para_ing['três'] = 'three'\n",
        "por_Para_ing"
      ],
      "execution_count": 0,
      "outputs": [
        {
          "output_type": "execute_result",
          "data": {
            "text/plain": [
              "{'dois': 'two', 'três': 'three', 'um': 'one'}"
            ]
          },
          "metadata": {
            "tags": []
          },
          "execution_count": 32
        }
      ]
    },
    {
      "metadata": {
        "id": "TvywxgGIA3hk",
        "colab_type": "code",
        "colab": {},
        "outputId": "6adc0a85-a09e-4ba6-b76a-00b1fe8b037e"
      },
      "cell_type": "code",
      "source": [
        "# Exemplo: dicionário de Portugues para Ingles\n",
        "ing_Para_por = {'one': 'um', 'two': 'dois', 'three': 'três'}\n",
        "ing_Para_por"
      ],
      "execution_count": 0,
      "outputs": [
        {
          "output_type": "execute_result",
          "data": {
            "text/plain": [
              "{'one': 'um', 'three': 'três', 'two': 'dois'}"
            ]
          },
          "metadata": {
            "tags": []
          },
          "execution_count": 20
        }
      ]
    },
    {
      "metadata": {
        "id": "RP21LURrA3hm",
        "colab_type": "code",
        "colab": {}
      },
      "cell_type": "code",
      "source": [
        "# Comandos\n",
        "- del       Remove um par chave-valor de um dicionário\n",
        "- len       Retorna a quantidade de itens"
      ],
      "execution_count": 0,
      "outputs": []
    },
    {
      "metadata": {
        "id": "Gj6H-i1XA3hp",
        "colab_type": "code",
        "colab": {},
        "outputId": "263f33dd-05f1-4ebc-a70c-7d05014cbbd8"
      },
      "cell_type": "code",
      "source": [
        "len(ing_Para_por)"
      ],
      "execution_count": 0,
      "outputs": [
        {
          "output_type": "execute_result",
          "data": {
            "text/plain": [
              "3"
            ]
          },
          "metadata": {
            "tags": []
          },
          "execution_count": 15
        }
      ]
    },
    {
      "metadata": {
        "id": "Do1_AvNmA3hr",
        "colab_type": "code",
        "colab": {},
        "outputId": "a557fdf2-a6b7-4627-c4bd-bafc5b03e60a"
      },
      "cell_type": "code",
      "source": [
        "ing_Para_por"
      ],
      "execution_count": 0,
      "outputs": [
        {
          "output_type": "execute_result",
          "data": {
            "text/plain": [
              "{'one': 'um', 'three': 'três', 'two': 'dois'}"
            ]
          },
          "metadata": {
            "tags": []
          },
          "execution_count": 21
        }
      ]
    },
    {
      "metadata": {
        "id": "w1_EU46kA3hw",
        "colab_type": "code",
        "colab": {},
        "outputId": "476cd613-b22b-4b6b-ef7b-5716d40174fb"
      },
      "cell_type": "code",
      "source": [
        "del(ing_Para_por['three'])\n",
        "ing_Para_por"
      ],
      "execution_count": 0,
      "outputs": [
        {
          "output_type": "execute_result",
          "data": {
            "text/plain": [
              "{'one': 'um', 'two': 'dois'}"
            ]
          },
          "metadata": {
            "tags": []
          },
          "execution_count": 22
        }
      ]
    },
    {
      "metadata": {
        "id": "2myHtHzFA3hz",
        "colab_type": "text"
      },
      "cell_type": "markdown",
      "source": [
        "Dicionários possuem vários métodos nativos úteis.\n",
        "    - keys()  \t \tRetorna uma vista das chaves no dicionário\n",
        "    - values()  \tRetorna uma vista dos valores no dicionário\n",
        "    - items() \t    Retorna uma vista dos pares chave-valor no dicionário\n",
        "    - get(key) \t    Retorna o valor associado com a chave; ou None\n",
        "    - items()       Retorna os dois valores, na forma de uma lista de tuplas - cada tupla com um par chave-valor    "
      ]
    },
    {
      "metadata": {
        "id": "uyz4-_l7A3hz",
        "colab_type": "code",
        "colab": {},
        "outputId": "7175a70a-227b-4d23-b83d-66e30fa4a2fc"
      },
      "cell_type": "code",
      "source": [
        "por_Para_ing.keys()"
      ],
      "execution_count": 0,
      "outputs": [
        {
          "output_type": "execute_result",
          "data": {
            "text/plain": [
              "dict_keys(['um', 'dois'])"
            ]
          },
          "metadata": {
            "tags": []
          },
          "execution_count": 10
        }
      ]
    },
    {
      "metadata": {
        "id": "RwRr8QWbA3h3",
        "colab_type": "code",
        "colab": {},
        "outputId": "07cf9104-1e0d-43de-f2e9-950966f21afa"
      },
      "cell_type": "code",
      "source": [
        "por_Para_ing.values()"
      ],
      "execution_count": 0,
      "outputs": [
        {
          "output_type": "execute_result",
          "data": {
            "text/plain": [
              "dict_values(['one', 'two'])"
            ]
          },
          "metadata": {
            "tags": []
          },
          "execution_count": 11
        }
      ]
    },
    {
      "metadata": {
        "id": "HR0kGkuWA3h6",
        "colab_type": "code",
        "colab": {},
        "outputId": "8516bed8-ff95-46eb-9d61-ef75c14bfff4"
      },
      "cell_type": "code",
      "source": [
        "por_Para_ing.get('um')"
      ],
      "execution_count": 0,
      "outputs": [
        {
          "output_type": "execute_result",
          "data": {
            "text/plain": [
              "'one'"
            ]
          },
          "metadata": {
            "tags": []
          },
          "execution_count": 26
        }
      ]
    },
    {
      "metadata": {
        "id": "dUjFDUyiA3h9",
        "colab_type": "code",
        "colab": {}
      },
      "cell_type": "code",
      "source": [
        "# Exemplo de uso de dicionários\n",
        "inventario = {'abacaxis': 430, 'bananas': 312, 'laranjas': 525, 'peras': 217}"
      ],
      "execution_count": 0,
      "outputs": []
    },
    {
      "metadata": {
        "id": "10Kmqyt5A3h_",
        "colab_type": "code",
        "colab": {},
        "outputId": "0ea357ae-55ef-4b62-8699-7d89c5a101a1"
      },
      "cell_type": "code",
      "source": [
        "inventario"
      ],
      "execution_count": 0,
      "outputs": [
        {
          "output_type": "execute_result",
          "data": {
            "text/plain": [
              "{'abacaxis': 430, 'bananas': 312, 'laranjas': 525, 'peras': 217}"
            ]
          },
          "metadata": {
            "tags": []
          },
          "execution_count": 34
        }
      ]
    },
    {
      "metadata": {
        "id": "uShKiT1IA3iF",
        "colab_type": "code",
        "colab": {}
      },
      "cell_type": "code",
      "source": [
        "inventario['bananas'] = 311"
      ],
      "execution_count": 0,
      "outputs": []
    },
    {
      "metadata": {
        "id": "IE7ulV2sA3iG",
        "colab_type": "code",
        "colab": {},
        "outputId": "a9b210f1-5427-4db2-e3f9-801d2ad12996"
      },
      "cell_type": "code",
      "source": [
        "inventario"
      ],
      "execution_count": 0,
      "outputs": [
        {
          "output_type": "execute_result",
          "data": {
            "text/plain": [
              "{'abacaxis': 430, 'bananas': 311, 'laranjas': 525, 'peras': 217}"
            ]
          },
          "metadata": {
            "tags": []
          },
          "execution_count": 37
        }
      ]
    },
    {
      "metadata": {
        "id": "J6E8Tt5-A3iI",
        "colab_type": "code",
        "colab": {}
      },
      "cell_type": "code",
      "source": [
        "# Exemplo de uso de Dicionário\n",
        "aluno = {\n",
        "    \"nome\": \"joao\",\n",
        "    \"matricula\": 2015200101,\n",
        "    \"idade\": 39,\n",
        "    \"habilidades\": ['python', 'java', 'c/c++']\n",
        "}"
      ],
      "execution_count": 0,
      "outputs": []
    },
    {
      "metadata": {
        "id": "e9FusnWhA3iK",
        "colab_type": "code",
        "colab": {},
        "outputId": "8711ba49-aa22-4dc9-db58-57f3ace6b09d"
      },
      "cell_type": "code",
      "source": [
        "print(aluno['nome'])\n",
        "print(aluno['idade'])\n",
        "print (aluno['habilidades'])"
      ],
      "execution_count": 0,
      "outputs": [
        {
          "output_type": "stream",
          "text": [
            "joao\n",
            "39\n",
            "['python', 'java', 'c/c++']\n"
          ],
          "name": "stdout"
        }
      ]
    },
    {
      "metadata": {
        "id": "aHLgtLjpA3iM",
        "colab_type": "text"
      },
      "cell_type": "markdown",
      "source": [
        "Uso de Módulo\n",
        "\n",
        "- Um dos conceitos mais importantes na boa programação é reutilizar o código e evitar repetições.\n",
        "- A idéia é escrever funções e classes com um propósito e um escopo bem definidos e reutilizá-los em vez de repetir código similar em uma parte diferente de um programa (programação modular). O resultado é geralmente que a legibilidade e a manutenção de um programa são muito melhoradas. O que isso significa na prática é que nossos programas têm menos erros, são mais fáceis de estender e depurar / solucionar problemas.\n",
        "- O Python suporta programação modular em diferentes níveis. Funções e classes são exemplos de ferramentas para programação modular de baixo nível. Os módulos Python são uma construção de programação modular de nível superior, onde podemos coletar variáveis, funções e classes relacionadas em um módulo.\n",
        "- Um módulo python é definido em um arquivo python (com o ponto final do arquivo .py) e pode ser acessível a outros módulos e programas Python usando a instrução import."
      ]
    },
    {
      "metadata": {
        "id": "x8XCTqZsA3iM",
        "colab_type": "code",
        "colab": {}
      },
      "cell_type": "code",
      "source": [
        ""
      ],
      "execution_count": 0,
      "outputs": []
    }
  ]
}